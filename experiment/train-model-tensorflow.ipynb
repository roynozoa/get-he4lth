{
 "cells": [
  {
   "cell_type": "code",
   "execution_count": 1,
   "metadata": {},
   "outputs": [],
   "source": [
    "import os\n",
    "import csv\n",
    "import time\n",
    "import json\n",
    "import emoji\n",
    "import fasttext\n",
    "import numpy as np\n",
    "import pandas as pd\n",
    "import string\n",
    "# import mlflow\n",
    "import json\n",
    "import pickle\n",
    "import tensorflow as tf\n",
    "\n",
    "from datetime import date\n",
    "\n",
    "from sklearn.model_selection import train_test_split\n",
    "from sklearn.metrics import (f1_score,\n",
    "                             precision_score,\n",
    "                             recall_score, \n",
    "                             accuracy_score)"
   ]
  },
  {
   "cell_type": "code",
   "execution_count": 2,
   "metadata": {},
   "outputs": [],
   "source": [
    "from sklearn.preprocessing import LabelEncoder\n",
    "from sklearn.model_selection import train_test_split\n",
    "\n",
    "from tensorflow.keras.utils import to_categorical\n",
    "from tensorflow.keras.preprocessing.text import Tokenizer\n",
    "from tensorflow.keras.preprocessing.sequence import pad_sequences\n",
    "\n",
    "from tensorflow.keras.optimizers import Adam\n",
    "from tensorflow.keras.models import Sequential\n",
    "from tensorflow.keras.callbacks import EarlyStopping\n",
    "from tensorflow.keras.layers import Dense, LSTM, Embedding, Bidirectional"
   ]
  },
  {
   "cell_type": "code",
   "execution_count": 3,
   "metadata": {},
   "outputs": [],
   "source": [
    "trainset_path = './Dataset/train_dataset.csv'\n",
    "testset_path = './Dataset/test_dataset.csv'\n",
    "\n",
    "train_df = pd.read_csv(trainset_path)\n",
    "test_df = pd.read_csv(testset_path)"
   ]
  },
  {
   "cell_type": "code",
   "execution_count": 4,
   "metadata": {},
   "outputs": [
    {
     "data": {
      "text/plain": [
       "41"
      ]
     },
     "execution_count": 4,
     "metadata": {},
     "output_type": "execute_result"
    }
   ],
   "source": [
    "len(train_df['LABEL'].unique())"
   ]
  },
  {
   "cell_type": "code",
   "execution_count": 5,
   "metadata": {},
   "outputs": [
    {
     "data": {
      "text/html": [
       "<div>\n",
       "<style scoped>\n",
       "    .dataframe tbody tr th:only-of-type {\n",
       "        vertical-align: middle;\n",
       "    }\n",
       "\n",
       "    .dataframe tbody tr th {\n",
       "        vertical-align: top;\n",
       "    }\n",
       "\n",
       "    .dataframe thead th {\n",
       "        text-align: right;\n",
       "    }\n",
       "</style>\n",
       "<table border=\"1\" class=\"dataframe\">\n",
       "  <thead>\n",
       "    <tr style=\"text-align: right;\">\n",
       "      <th></th>\n",
       "      <th>TEXT</th>\n",
       "      <th>LABEL</th>\n",
       "    </tr>\n",
       "  </thead>\n",
       "  <tbody>\n",
       "    <tr>\n",
       "      <th>0</th>\n",
       "      <td>stomach pain acidity ulcers on tongue vomiting...</td>\n",
       "      <td>gerd</td>\n",
       "    </tr>\n",
       "    <tr>\n",
       "      <th>1</th>\n",
       "      <td>chills fatigue cough high fever sweating malai...</td>\n",
       "      <td>pneumonia</td>\n",
       "    </tr>\n",
       "    <tr>\n",
       "      <th>2</th>\n",
       "      <td>vomiting headache nausea spinning movements lo...</td>\n",
       "      <td>vertigo-paroymsal--positional-vertigo</td>\n",
       "    </tr>\n",
       "    <tr>\n",
       "      <th>3</th>\n",
       "      <td>weight loss restlessness lethargy irregular su...</td>\n",
       "      <td>diabetes</td>\n",
       "    </tr>\n",
       "    <tr>\n",
       "      <th>4</th>\n",
       "      <td>skin rash pus filled pimples blackheads scurring</td>\n",
       "      <td>acne</td>\n",
       "    </tr>\n",
       "    <tr>\n",
       "      <th>...</th>\n",
       "      <td>...</td>\n",
       "      <td>...</td>\n",
       "    </tr>\n",
       "    <tr>\n",
       "      <th>3439</th>\n",
       "      <td>vomiting indigestion loss of appetite abdomina...</td>\n",
       "      <td>peptic-ulcer-diseae</td>\n",
       "    </tr>\n",
       "    <tr>\n",
       "      <th>3440</th>\n",
       "      <td>chills vomiting sweating headache nausea diarr...</td>\n",
       "      <td>malaria</td>\n",
       "    </tr>\n",
       "    <tr>\n",
       "      <th>3441</th>\n",
       "      <td>skin rash joint pain skin peeling silver like ...</td>\n",
       "      <td>psoriasis</td>\n",
       "    </tr>\n",
       "    <tr>\n",
       "      <th>3442</th>\n",
       "      <td>joint pain vomiting fatigue high fever yellowi...</td>\n",
       "      <td>hepatitis-e</td>\n",
       "    </tr>\n",
       "    <tr>\n",
       "      <th>3443</th>\n",
       "      <td>vomiting yellowish skin abdominal pain swellin...</td>\n",
       "      <td>alcoholic-hepatitis</td>\n",
       "    </tr>\n",
       "  </tbody>\n",
       "</table>\n",
       "<p>3444 rows × 2 columns</p>\n",
       "</div>"
      ],
      "text/plain": [
       "                                                   TEXT  \\\n",
       "0     stomach pain acidity ulcers on tongue vomiting...   \n",
       "1     chills fatigue cough high fever sweating malai...   \n",
       "2     vomiting headache nausea spinning movements lo...   \n",
       "3     weight loss restlessness lethargy irregular su...   \n",
       "4      skin rash pus filled pimples blackheads scurring   \n",
       "...                                                 ...   \n",
       "3439  vomiting indigestion loss of appetite abdomina...   \n",
       "3440  chills vomiting sweating headache nausea diarr...   \n",
       "3441  skin rash joint pain skin peeling silver like ...   \n",
       "3442  joint pain vomiting fatigue high fever yellowi...   \n",
       "3443  vomiting yellowish skin abdominal pain swellin...   \n",
       "\n",
       "                                      LABEL  \n",
       "0                                      gerd  \n",
       "1                                 pneumonia  \n",
       "2     vertigo-paroymsal--positional-vertigo  \n",
       "3                                  diabetes  \n",
       "4                                      acne  \n",
       "...                                     ...  \n",
       "3439                    peptic-ulcer-diseae  \n",
       "3440                                malaria  \n",
       "3441                              psoriasis  \n",
       "3442                            hepatitis-e  \n",
       "3443                    alcoholic-hepatitis  \n",
       "\n",
       "[3444 rows x 2 columns]"
      ]
     },
     "execution_count": 5,
     "metadata": {},
     "output_type": "execute_result"
    }
   ],
   "source": [
    "train_df"
   ]
  },
  {
   "cell_type": "code",
   "execution_count": 6,
   "metadata": {},
   "outputs": [],
   "source": [
    "X_train, X_val, y_train, y_val = train_test_split(\n",
    "                                          train_df['TEXT'],\n",
    "                                          train_df['LABEL'], \n",
    "                                          test_size=0.2,\n",
    "                                          stratify=train_df[\"LABEL\"],\n",
    "                                          random_state = 42\n",
    "    )"
   ]
  },
  {
   "cell_type": "code",
   "execution_count": 7,
   "metadata": {},
   "outputs": [],
   "source": [
    "X_test = test_df['TEXT']\n",
    "y_test = test_df['LABEL']"
   ]
  },
  {
   "cell_type": "code",
   "execution_count": 8,
   "metadata": {},
   "outputs": [],
   "source": [
    "# Encode labels\n",
    "le = LabelEncoder()\n",
    "y_train = le.fit_transform(y_train)\n",
    "y_test = le.fit_transform(y_test)\n",
    "y_val = le.fit_transform(y_val)\n",
    "\n",
    "y_train = to_categorical(y_train)\n",
    "y_test = to_categorical(y_test)\n",
    "y_val = to_categorical(y_val)"
   ]
  },
  {
   "cell_type": "code",
   "execution_count": 9,
   "metadata": {},
   "outputs": [
    {
     "name": "stdout",
     "output_type": "stream",
     "text": [
      "Vocabulary size = 209\n"
     ]
    }
   ],
   "source": [
    "# Tokenize words\n",
    "tokenizer = Tokenizer()\n",
    "tokenizer.fit_on_texts(pd.concat([X_train, X_test], axis=0))\n",
    "\n",
    "sequences_train = tokenizer.texts_to_sequences(X_train)\n",
    "sequences_test = tokenizer.texts_to_sequences(X_test)\n",
    "sequences_val = tokenizer.texts_to_sequences(X_val)\n",
    "\n",
    "X_train = pad_sequences(sequences_train, maxlen=64, truncating='pre')\n",
    "X_test = pad_sequences(sequences_test, maxlen=64, truncating='pre')\n",
    "X_val = pad_sequences(sequences_val, maxlen=64, truncating='pre')\n",
    "\n",
    "vocabSize = len(tokenizer.index_word) + 1\n",
    "print(f\"Vocabulary size = {vocabSize}\")"
   ]
  },
  {
   "cell_type": "code",
   "execution_count": 10,
   "metadata": {},
   "outputs": [
    {
     "name": "stdout",
     "output_type": "stream",
     "text": [
      "Model: \"sequential\"\n",
      "_________________________________________________________________\n",
      " Layer (type)                Output Shape              Param #   \n",
      "=================================================================\n",
      " embedding (Embedding)       (None, 64, 200)           41800     \n",
      "                                                                 \n",
      " bidirectional (Bidirectiona  (None, 128)              135680    \n",
      " l)                                                              \n",
      "                                                                 \n",
      " dense (Dense)               (None, 24)                3096      \n",
      "                                                                 \n",
      " dense_1 (Dense)             (None, 41)                1025      \n",
      "                                                                 \n",
      "=================================================================\n",
      "Total params: 181,601\n",
      "Trainable params: 139,801\n",
      "Non-trainable params: 41,800\n",
      "_________________________________________________________________\n"
     ]
    }
   ],
   "source": [
    "# Build neural network architecture\n",
    "import tensorflow as tf\n",
    "tf.keras.backend.clear_session()\n",
    "\n",
    "adam = Adam(learning_rate=0.005)\n",
    "#code here\n",
    "model = tf.keras.Sequential([\n",
    "    tf.keras.layers.Embedding(vocabSize, 200, input_length=X_train.shape[1], trainable=False),\n",
    "    tf.keras.layers.Bidirectional(tf.keras.layers.LSTM(64)),\n",
    "\n",
    "    tf.keras.layers.Dense(24, activation='relu'),\n",
    "    tf.keras.layers.Dense(41, activation='softmax')\n",
    "    ])\n",
    "\n",
    "model.compile(loss='categorical_crossentropy', optimizer=adam, metrics=['accuracy'])\n",
    "model.summary()"
   ]
  },
  {
   "cell_type": "code",
   "execution_count": 17,
   "metadata": {},
   "outputs": [
    {
     "name": "stdout",
     "output_type": "stream",
     "text": [
      "You must install pydot (`pip install pydot`) and install graphviz (see instructions at https://graphviz.gitlab.io/download/) for plot_model/model_to_dot to work.\n"
     ]
    }
   ],
   "source": [
    "tf.keras.utils.plot_model(model, to_file=\"model/model-tensorflow.png\", show_shapes=True)"
   ]
  },
  {
   "cell_type": "code",
   "execution_count": 21,
   "metadata": {},
   "outputs": [],
   "source": [
    "#Callback\n",
    "callback = EarlyStopping(\n",
    "    monitor='val_accuracy',\n",
    "    verbose=1,\n",
    "    patience=10,\n",
    "    restore_best_weights=True\n",
    ")"
   ]
  },
  {
   "cell_type": "code",
   "execution_count": 22,
   "metadata": {},
   "outputs": [
    {
     "name": "stdout",
     "output_type": "stream",
     "text": [
      "Epoch 1/20\n",
      "44/44 [==============================] - 18s 201ms/step - loss: 3.2024 - accuracy: 0.1078 - val_loss: 2.3067 - val_accuracy: 0.2671\n",
      "Epoch 2/20\n",
      "44/44 [==============================] - 8s 193ms/step - loss: 1.6291 - accuracy: 0.5263 - val_loss: 0.8775 - val_accuracy: 0.8157\n",
      "Epoch 3/20\n",
      "44/44 [==============================] - 9s 195ms/step - loss: 0.4119 - accuracy: 0.9238 - val_loss: 0.1567 - val_accuracy: 0.9855\n",
      "Epoch 4/20\n",
      "44/44 [==============================] - 8s 189ms/step - loss: 0.1500 - accuracy: 0.9702 - val_loss: 0.0631 - val_accuracy: 0.9985\n",
      "Epoch 5/20\n",
      "44/44 [==============================] - 8s 190ms/step - loss: 0.0350 - accuracy: 0.9964 - val_loss: 0.0194 - val_accuracy: 1.0000\n",
      "Epoch 6/20\n",
      "44/44 [==============================] - 8s 186ms/step - loss: 0.0273 - accuracy: 0.9971 - val_loss: 0.0474 - val_accuracy: 0.9855\n",
      "Epoch 7/20\n",
      "44/44 [==============================] - 8s 189ms/step - loss: 0.0211 - accuracy: 0.9989 - val_loss: 0.0091 - val_accuracy: 1.0000\n",
      "Epoch 8/20\n",
      "44/44 [==============================] - 7s 162ms/step - loss: 0.0067 - accuracy: 1.0000 - val_loss: 0.0049 - val_accuracy: 1.0000\n",
      "Epoch 9/20\n",
      "44/44 [==============================] - 8s 185ms/step - loss: 0.0042 - accuracy: 1.0000 - val_loss: 0.0033 - val_accuracy: 1.0000\n",
      "Epoch 10/20\n",
      "44/44 [==============================] - 9s 212ms/step - loss: 0.0030 - accuracy: 1.0000 - val_loss: 0.0025 - val_accuracy: 1.0000\n",
      "Epoch 11/20\n",
      "44/44 [==============================] - 8s 181ms/step - loss: 0.0023 - accuracy: 1.0000 - val_loss: 0.0020 - val_accuracy: 1.0000\n",
      "Epoch 12/20\n",
      "44/44 [==============================] - 7s 164ms/step - loss: 0.0019 - accuracy: 1.0000 - val_loss: 0.0017 - val_accuracy: 1.0000\n",
      "Epoch 13/20\n",
      "44/44 [==============================] - 7s 155ms/step - loss: 0.0016 - accuracy: 1.0000 - val_loss: 0.0015 - val_accuracy: 1.0000\n",
      "Epoch 14/20\n",
      "44/44 [==============================] - 7s 154ms/step - loss: 0.0014 - accuracy: 1.0000 - val_loss: 0.0013 - val_accuracy: 1.0000\n",
      "Epoch 15/20\n",
      "44/44 [==============================] - 8s 180ms/step - loss: 0.0012 - accuracy: 1.0000 - val_loss: 0.0011 - val_accuracy: 1.0000\n",
      "Restoring model weights from the end of the best epoch.\n",
      "Epoch 00015: early stopping\n"
     ]
    }
   ],
   "source": [
    "# Fit model\n",
    "# code here\n",
    "history = model.fit(X_train,\n",
    "                    y_train,\n",
    "                    validation_data=(X_val, y_val),\n",
    "                    verbose=1,\n",
    "                    batch_size=64,\n",
    "                    callbacks=[callback],\n",
    "                    epochs=20)"
   ]
  },
  {
   "cell_type": "code",
   "execution_count": 23,
   "metadata": {},
   "outputs": [
    {
     "name": "stdout",
     "output_type": "stream",
     "text": [
      "47/47 [==============================] - 1s 25ms/step - loss: 0.0208 - accuracy: 1.0000\n"
     ]
    },
    {
     "data": {
      "text/plain": [
       "[0.02076816000044346, 1.0]"
      ]
     },
     "execution_count": 23,
     "metadata": {},
     "output_type": "execute_result"
    }
   ],
   "source": [
    "model.evaluate(X_test, y_test, verbose=1)"
   ]
  },
  {
   "cell_type": "code",
   "execution_count": 26,
   "metadata": {},
   "outputs": [
    {
     "data": {
      "image/png": "[encoded data removed]",
      "text/plain": [
       "<Figure size 432x288 with 1 Axes>"
      ]
     },
     "metadata": {
      "needs_background": "light"
     },
     "output_type": "display_data"
    },
    {
     "data": {
      "image/png": "[encoded data removed]",
      "text/plain": [
       "<Figure size 432x288 with 1 Axes>"
      ]
     },
     "metadata": {
      "needs_background": "light"
     },
     "output_type": "display_data"
    }
   ],
   "source": [
    "# Visualize Loss & Accuracy\n",
    "\n",
    "%matplotlib inline\n",
    "import matplotlib.pyplot as plt\n",
    "\n",
    "\n",
    "acc = history.history['accuracy']\n",
    "val_acc = history.history['val_accuracy']\n",
    "loss = history.history['loss']\n",
    "val_loss = history.history['val_loss']\n",
    "\n",
    "epochs = range(len(acc))\n",
    "\n",
    "plt.plot(epochs, acc, 'r', label='Training accuracy')\n",
    "plt.plot(epochs, val_acc, 'b', label='Validation accuracy')\n",
    "plt.title('Training and validation accuracy')\n",
    "plt.legend()\n",
    "plt.figure()\n",
    "\n",
    "plt.plot(epochs, loss, 'r', label='Training Loss')\n",
    "plt.plot(epochs, val_loss, 'b', label='Validation Loss')\n",
    "plt.title('Training and validation loss')\n",
    "plt.legend()\n",
    "\n",
    "plt.show()"
   ]
  },
  {
   "cell_type": "code",
   "execution_count": 29,
   "metadata": {},
   "outputs": [],
   "source": [
    "import numpy as np\n",
    "import pickle\n",
    "\n",
    "model.save('model/model-tensorflow.h5')\n",
    "\n",
    "np.save('model/classes_encoder.npy', le.classes_)\n",
    "\n",
    "pickle.dump(tokenizer, open('model/tokenizer.pkl', 'wb'))"
   ]
  },
  {
   "cell_type": "code",
   "execution_count": 34,
   "metadata": {},
   "outputs": [
    {
     "name": "stdout",
     "output_type": "stream",
     "text": [
      "stomach pain acidity ulcers on tongue\n",
      "gerd : 0.46901482343673706\n",
      "\n"
     ]
    }
   ],
   "source": [
    "# Classify custom sample\n",
    "\n",
    "sentences = [\n",
    "            \"stomach pain acidity ulcers on tongue\"\n",
    "            ]\n",
    "for sentence in sentences:\n",
    "    print(sentence)\n",
    "    sentence = tokenizer.texts_to_sequences([sentence])\n",
    "    sentence = pad_sequences(sentence, maxlen=64, truncating='pre')\n",
    "    result = le.inverse_transform(np.argmax(model.predict(sentence), axis=-1))[0]\n",
    "    proba =  np.max(model.predict(sentence))\n",
    "    print(f\"{result} : {proba}\\n\")"
   ]
  },
  {
   "cell_type": "code",
   "execution_count": 31,
   "metadata": {},
   "outputs": [
    {
     "data": {
      "text/plain": [
       "array([15], dtype=int64)"
      ]
     },
     "execution_count": 31,
     "metadata": {},
     "output_type": "execute_result"
    }
   ],
   "source": [
    "sentence = \"itching\"\n",
    "sentence = tokenizer.texts_to_sequences([sentence])\n",
    "sentence = pad_sequences(sentence, maxlen=64, truncating='pre')\n",
    "pred = model.predict(sentence)\n",
    "np.argmax(pred, axis=-1)"
   ]
  },
  {
   "cell_type": "code",
   "execution_count": 62,
   "metadata": {},
   "outputs": [
    {
     "data": {
      "text/plain": [
       "0.39835456"
      ]
     },
     "execution_count": 62,
     "metadata": {},
     "output_type": "execute_result"
    }
   ],
   "source": [
    "np.max(pred)"
   ]
  },
  {
   "cell_type": "code",
   "execution_count": 41,
   "metadata": {},
   "outputs": [],
   "source": [
    "preds = tf.math.top_k(pred, k=3)"
   ]
  },
  {
   "cell_type": "code",
   "execution_count": 67,
   "metadata": {},
   "outputs": [
    {
     "data": {
      "text/plain": [
       "[0.39835456013679504, 0.24907609820365906, 0.13030405342578888]"
      ]
     },
     "execution_count": 67,
     "metadata": {},
     "output_type": "execute_result"
    }
   ],
   "source": [
    "preds[0][0].numpy().tolist()"
   ]
  },
  {
   "cell_type": "code",
   "execution_count": 58,
   "metadata": {},
   "outputs": [
    {
     "data": {
      "text/plain": [
       "array([15, 17,  3])"
      ]
     },
     "execution_count": 58,
     "metadata": {},
     "output_type": "execute_result"
    }
   ],
   "source": [
    "preds[1][0].numpy()"
   ]
  },
  {
   "cell_type": "code",
   "execution_count": 59,
   "metadata": {},
   "outputs": [],
   "source": [
    "# le.inverse_transform(np.argmax(model.predict(sentence), axis=-1))\n",
    "# tf.math.top_k(pred, k=3)\n",
    "\n",
    "pred_1 = le.inverse_transform(preds[1][0].numpy())\n",
    "# pred_2 = le.inverse_transform(preds[1][0].numpy()[1])\n",
    "# pred_3 = le.inverse_transform(preds[1][0].numpy()[2])"
   ]
  },
  {
   "cell_type": "code",
   "execution_count": 60,
   "metadata": {},
   "outputs": [
    {
     "data": {
      "text/plain": [
       "array(['gastroenteritis', 'heart-attack', 'allergy'], dtype=object)"
      ]
     },
     "execution_count": 60,
     "metadata": {},
     "output_type": "execute_result"
    }
   ],
   "source": [
    "pred_1"
   ]
  },
  {
   "cell_type": "code",
   "execution_count": 3,
   "metadata": {},
   "outputs": [],
   "source": [
    "model_tf = tf.keras.models.load_model('model/model-tensorflow.h5')"
   ]
  },
  {
   "cell_type": "code",
   "execution_count": 8,
   "metadata": {},
   "outputs": [
    {
     "data": {
      "text/plain": [
       "array([[ 0,  0,  0,  0,  0,  0,  0,  0,  0,  0,  0,  0,  0,  0,  0,  0,\n",
       "         0,  0,  0,  0,  0,  0,  0,  0,  0,  0,  0,  0,  0,  0,  0,  0,\n",
       "         0,  0,  0,  0,  0,  0,  0,  0,  0,  0,  0,  0,  0,  0,  0,  0,\n",
       "         0,  0,  0,  0,  0,  0,  0,  0,  0,  5, 21, 18, 19,  1,  6,  4]])"
      ]
     },
     "execution_count": 8,
     "metadata": {},
     "output_type": "execute_result"
    }
   ],
   "source": [
    "tokenizer = pickle.load(open('model/tokenizer.pkl', 'rb'))\n",
    "le = LabelEncoder()\n",
    "le.classes_ = np.load('model/classes_encoder.npy', allow_pickle=True)\n",
    "\n",
    "text = tokenizer.texts_to_sequences(['skin rash chills joint pain vomiting fatigue'])\n",
    "text = pad_sequences(text, maxlen=64, truncating='pre')\n",
    "pred = model_tf.predict(text)\n",
    "preds = tf.math.top_k(pred, k=3)\n",
    "list_predictions = le.inverse_transform(preds[1][0].numpy())\n",
    "list_score = preds[0][0].numpy().tolist()"
   ]
  },
  {
   "cell_type": "code",
   "execution_count": 6,
   "metadata": {},
   "outputs": [
    {
     "data": {
      "text/plain": [
       "array(['drug-reaction', 'impetigo', 'malaria'], dtype=object)"
      ]
     },
     "execution_count": 6,
     "metadata": {},
     "output_type": "execute_result"
    }
   ],
   "source": [
    "list_predictions"
   ]
  },
  {
   "cell_type": "code",
   "execution_count": 86,
   "metadata": {},
   "outputs": [
    {
     "data": {
      "text/plain": [
       "array(['gerd', 'malaria', 'heart-attack'], dtype=object)"
      ]
     },
     "execution_count": 86,
     "metadata": {},
     "output_type": "execute_result"
    }
   ],
   "source": [
    "list_predictions"
   ]
  },
  {
   "cell_type": "code",
   "execution_count": 62,
   "metadata": {},
   "outputs": [
    {
     "data": {
      "text/plain": [
       "[0.3254944682121277, 0.2726234197616577, 0.17026753723621368]"
      ]
     },
     "execution_count": 62,
     "metadata": {},
     "output_type": "execute_result"
    }
   ],
   "source": [
    "list_score"
   ]
  },
  {
   "cell_type": "code",
   "execution_count": null,
   "metadata": {},
   "outputs": [],
   "source": []
  }
 ],
 "metadata": {
  "kernelspec": {
   "display_name": "Python 3.8.6 64-bit",
   "language": "python",
   "name": "python3"
  },
  "language_info": {
   "codemirror_mode": {
    "name": "ipython",
    "version": 3
   },
   "file_extension": ".py",
   "mimetype": "text/x-python",
   "name": "python",
   "nbconvert_exporter": "python",
   "pygments_lexer": "ipython3",
   "version": "3.8.6"
  },
  "orig_nbformat": 4,
  "vscode": {
   "interpreter": {
    "hash": "bc491cab7f8e518b8661983684ee0bfd3cedaf06faa2175782bbf43c1e59e7f0"
   }
  }
 },
 "nbformat": 4,
 "nbformat_minor": 2
}
