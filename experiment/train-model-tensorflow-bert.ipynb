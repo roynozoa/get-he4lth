{
 "cells": [
  {
   "cell_type": "code",
   "execution_count": null,
   "metadata": {},
   "outputs": [],
   "source": [
    "## Install library\n",
    "!pip install tensorflow-hub\n",
    "!pip install tensorflow-text"
   ]
  },
  {
   "cell_type": "markdown",
   "metadata": {},
   "source": [
    "### Import Library"
   ]
  },
  {
   "cell_type": "code",
   "execution_count": 1,
   "metadata": {},
   "outputs": [],
   "source": [
    "import os\n",
    "import csv\n",
    "import time\n",
    "import json\n",
    "import emoji\n",
    "import fasttext\n",
    "import numpy as np\n",
    "import pandas as pd\n",
    "import string\n",
    "import json\n",
    "import pickle\n",
    "import tensorflow as tf\n",
    "import tensorflow_hub as hub\n",
    "import tensorflow_text as text\n",
    "\n",
    "from datetime import date\n",
    "\n",
    "from sklearn.model_selection import train_test_split\n",
    "from sklearn.metrics import (f1_score,\n",
    "                             precision_score,\n",
    "                             recall_score, \n",
    "                             accuracy_score)"
   ]
  },
  {
   "cell_type": "code",
   "execution_count": 2,
   "metadata": {},
   "outputs": [],
   "source": [
    "from sklearn.preprocessing import LabelEncoder\n",
    "from sklearn.model_selection import train_test_split\n",
    "\n",
    "from tensorflow.keras.utils import to_categorical\n",
    "from tensorflow.keras.preprocessing.text import Tokenizer\n",
    "from tensorflow.keras.preprocessing.sequence import pad_sequences\n",
    "\n",
    "from tensorflow.keras.optimizers import Adam\n",
    "from tensorflow.keras.models import Sequential\n",
    "from tensorflow.keras.callbacks import EarlyStopping\n",
    "from tensorflow.keras.layers import Dense, LSTM, Embedding, Bidirectional"
   ]
  },
  {
   "cell_type": "markdown",
   "metadata": {},
   "source": [
    "### Load Dataset"
   ]
  },
  {
   "cell_type": "code",
   "execution_count": 3,
   "metadata": {},
   "outputs": [],
   "source": [
    "# Define variabel\n",
    "trainset_path = './Dataset/train_dataset.csv'\n",
    "testset_path = './Dataset/test_dataset.csv'\n",
    "\n",
    "train_df = pd.read_csv(trainset_path)\n",
    "test_df = pd.read_csv(testset_path)\n",
    "\n",
    "train_df = train_df.fillna('unknown')\n",
    "test_df = test_df.fillna('unknown')\n"
   ]
  },
  {
   "cell_type": "code",
   "execution_count": 4,
   "metadata": {},
   "outputs": [
    {
     "data": {
      "text/plain": [
       "41"
      ]
     },
     "execution_count": 4,
     "metadata": {},
     "output_type": "execute_result"
    }
   ],
   "source": [
    "len(train_df['LABEL'].unique())"
   ]
  },
  {
   "cell_type": "code",
   "execution_count": 5,
   "metadata": {},
   "outputs": [
    {
     "data": {
      "text/html": [
       "<div>\n",
       "<style scoped>\n",
       "    .dataframe tbody tr th:only-of-type {\n",
       "        vertical-align: middle;\n",
       "    }\n",
       "\n",
       "    .dataframe tbody tr th {\n",
       "        vertical-align: top;\n",
       "    }\n",
       "\n",
       "    .dataframe thead th {\n",
       "        text-align: right;\n",
       "    }\n",
       "</style>\n",
       "<table border=\"1\" class=\"dataframe\">\n",
       "  <thead>\n",
       "    <tr style=\"text-align: right;\">\n",
       "      <th></th>\n",
       "      <th>TEXT</th>\n",
       "      <th>LABEL</th>\n",
       "    </tr>\n",
       "  </thead>\n",
       "  <tbody>\n",
       "    <tr>\n",
       "      <th>0</th>\n",
       "      <td>stomach pain acidity ulcers on tongue vomiting...</td>\n",
       "      <td>gerd</td>\n",
       "    </tr>\n",
       "    <tr>\n",
       "      <th>1</th>\n",
       "      <td>chills fatigue cough high fever sweating malai...</td>\n",
       "      <td>pneumonia</td>\n",
       "    </tr>\n",
       "    <tr>\n",
       "      <th>2</th>\n",
       "      <td>vomiting headache nausea spinning movements lo...</td>\n",
       "      <td>vertigo-paroymsal--positional-vertigo</td>\n",
       "    </tr>\n",
       "    <tr>\n",
       "      <th>3</th>\n",
       "      <td>weight loss restlessness lethargy irregular su...</td>\n",
       "      <td>diabetes</td>\n",
       "    </tr>\n",
       "    <tr>\n",
       "      <th>4</th>\n",
       "      <td>skin rash pus filled pimples blackheads scurring</td>\n",
       "      <td>acne</td>\n",
       "    </tr>\n",
       "    <tr>\n",
       "      <th>...</th>\n",
       "      <td>...</td>\n",
       "      <td>...</td>\n",
       "    </tr>\n",
       "    <tr>\n",
       "      <th>3439</th>\n",
       "      <td>vomiting indigestion loss of appetite abdomina...</td>\n",
       "      <td>peptic-ulcer-diseae</td>\n",
       "    </tr>\n",
       "    <tr>\n",
       "      <th>3440</th>\n",
       "      <td>chills vomiting sweating headache nausea diarr...</td>\n",
       "      <td>malaria</td>\n",
       "    </tr>\n",
       "    <tr>\n",
       "      <th>3441</th>\n",
       "      <td>skin rash joint pain skin peeling silver like ...</td>\n",
       "      <td>psoriasis</td>\n",
       "    </tr>\n",
       "    <tr>\n",
       "      <th>3442</th>\n",
       "      <td>joint pain vomiting fatigue high fever yellowi...</td>\n",
       "      <td>hepatitis-e</td>\n",
       "    </tr>\n",
       "    <tr>\n",
       "      <th>3443</th>\n",
       "      <td>vomiting yellowish skin abdominal pain swellin...</td>\n",
       "      <td>alcoholic-hepatitis</td>\n",
       "    </tr>\n",
       "  </tbody>\n",
       "</table>\n",
       "<p>3444 rows × 2 columns</p>\n",
       "</div>"
      ],
      "text/plain": [
       "                                                   TEXT  \\\n",
       "0     stomach pain acidity ulcers on tongue vomiting...   \n",
       "1     chills fatigue cough high fever sweating malai...   \n",
       "2     vomiting headache nausea spinning movements lo...   \n",
       "3     weight loss restlessness lethargy irregular su...   \n",
       "4      skin rash pus filled pimples blackheads scurring   \n",
       "...                                                 ...   \n",
       "3439  vomiting indigestion loss of appetite abdomina...   \n",
       "3440  chills vomiting sweating headache nausea diarr...   \n",
       "3441  skin rash joint pain skin peeling silver like ...   \n",
       "3442  joint pain vomiting fatigue high fever yellowi...   \n",
       "3443  vomiting yellowish skin abdominal pain swellin...   \n",
       "\n",
       "                                      LABEL  \n",
       "0                                      gerd  \n",
       "1                                 pneumonia  \n",
       "2     vertigo-paroymsal--positional-vertigo  \n",
       "3                                  diabetes  \n",
       "4                                      acne  \n",
       "...                                     ...  \n",
       "3439                    peptic-ulcer-diseae  \n",
       "3440                                malaria  \n",
       "3441                              psoriasis  \n",
       "3442                            hepatitis-e  \n",
       "3443                    alcoholic-hepatitis  \n",
       "\n",
       "[3444 rows x 2 columns]"
      ]
     },
     "execution_count": 5,
     "metadata": {},
     "output_type": "execute_result"
    }
   ],
   "source": [
    "train_df"
   ]
  },
  {
   "cell_type": "code",
   "execution_count": 6,
   "metadata": {},
   "outputs": [],
   "source": [
    "# Split train & test data\n",
    "X_train, X_val, y_train, y_val = train_test_split(\n",
    "                                          train_df['TEXT'],\n",
    "                                          train_df['LABEL'], \n",
    "                                          test_size=0.2,\n",
    "                                          stratify=train_df[\"LABEL\"],\n",
    "                                          random_state = 42\n",
    "    )"
   ]
  },
  {
   "cell_type": "code",
   "execution_count": 7,
   "metadata": {},
   "outputs": [],
   "source": [
    "X_test = test_df['TEXT']\n",
    "y_test = test_df['LABEL']"
   ]
  },
  {
   "cell_type": "code",
   "execution_count": 8,
   "metadata": {},
   "outputs": [],
   "source": [
    "# Encode labels\n",
    "le = LabelEncoder()\n",
    "y_train = le.fit_transform(y_train)\n",
    "y_test = le.fit_transform(y_test)\n",
    "y_val = le.fit_transform(y_val)\n",
    "\n",
    "y_train = to_categorical(y_train)\n",
    "y_test = to_categorical(y_test)\n",
    "y_val = to_categorical(y_val)"
   ]
  },
  {
   "cell_type": "markdown",
   "metadata": {},
   "source": [
    "### Create Tensorflow Bert Model from Tensorflow Hub"
   ]
  },
  {
   "cell_type": "code",
   "execution_count": 19,
   "metadata": {},
   "outputs": [],
   "source": [
    "# Build neural network architecture\n",
    "tf.keras.backend.clear_session()\n",
    "\n",
    "\n",
    "text_input = tf.keras.layers.Input(shape=(), dtype=tf.string)\n",
    "preprocessor = hub.KerasLayer(\n",
    "    \"https://tfhub.dev/tensorflow/bert_en_uncased_preprocess/3\")\n",
    "encoder_inputs = preprocessor(text_input)\n",
    "encoder = hub.KerasLayer(\n",
    "    \"https://tfhub.dev/tensorflow/small_bert/bert_en_uncased_L-6_H-128_A-2/2\",\n",
    "    trainable=True)\n",
    "outputs = encoder(encoder_inputs)\n",
    "pooled_output = outputs[\"pooled_output\"]      # [batch_size, 128].\n",
    "sequence_output = outputs[\"sequence_output\"]  # [batch_size, seq_length, 128].\n",
    "output = tf.keras.layers.Dropout(0.2, name=\"dropout\")(pooled_output)\n",
    "output = tf.keras.layers.Dense(41, activation='softmax', name=\"output\")(output)\n",
    "\n",
    "\n",
    "model = tf.keras.Model(text_input, output)"
   ]
  },
  {
   "cell_type": "code",
   "execution_count": 20,
   "metadata": {},
   "outputs": [],
   "source": [
    "loss = tf.keras.losses.CategoricalCrossentropy()\n",
    "metrics = tf.keras.metrics.CategoricalAccuracy(name=\"accuracy\")"
   ]
  },
  {
   "cell_type": "code",
   "execution_count": 21,
   "metadata": {},
   "outputs": [],
   "source": [
    "model.compile(optimizer=\"adam\",\n",
    "                         loss=loss,\n",
    "                         metrics=metrics)"
   ]
  },
  {
   "cell_type": "code",
   "execution_count": 22,
   "metadata": {},
   "outputs": [
    {
     "name": "stdout",
     "output_type": "stream",
     "text": [
      "Model: \"model\"\n",
      "__________________________________________________________________________________________________\n",
      " Layer (type)                   Output Shape         Param #     Connected to                     \n",
      "==================================================================================================\n",
      " input_1 (InputLayer)           [(None,)]            0           []                               \n",
      "                                                                                                  \n",
      " keras_layer (KerasLayer)       {'input_mask': (Non  0           ['input_1[0][0]']                \n",
      "                                e, 128),                                                          \n",
      "                                 'input_type_ids':                                                \n",
      "                                (None, 128),                                                      \n",
      "                                 'input_word_ids':                                                \n",
      "                                (None, 128)}                                                      \n",
      "                                                                                                  \n",
      " keras_layer_1 (KerasLayer)     {'default': (None,   5179009     ['keras_layer[0][0]',            \n",
      "                                128),                             'keras_layer[0][1]',            \n",
      "                                 'encoder_outputs':               'keras_layer[0][2]']            \n",
      "                                 [(None, 128, 128),                                               \n",
      "                                 (None, 128, 128),                                                \n",
      "                                 (None, 128, 128),                                                \n",
      "                                 (None, 128, 128),                                                \n",
      "                                 (None, 128, 128),                                                \n",
      "                                 (None, 128, 128)],                                               \n",
      "                                 'pooled_output': (                                               \n",
      "                                None, 128),                                                       \n",
      "                                 'sequence_output':                                               \n",
      "                                 (None, 128, 128)}                                                \n",
      "                                                                                                  \n",
      " dropout (Dropout)              (None, 128)          0           ['keras_layer_1[0][7]']          \n",
      "                                                                                                  \n",
      " output (Dense)                 (None, 41)           5289        ['dropout[0][0]']                \n",
      "                                                                                                  \n",
      "==================================================================================================\n",
      "Total params: 5,184,298\n",
      "Trainable params: 5,184,297\n",
      "Non-trainable params: 1\n",
      "__________________________________________________________________________________________________\n"
     ]
    }
   ],
   "source": [
    "model.summary()"
   ]
  },
  {
   "cell_type": "markdown",
   "metadata": {},
   "source": [
    "### Training Tensorflow Bert Model"
   ]
  },
  {
   "cell_type": "code",
   "execution_count": 23,
   "metadata": {},
   "outputs": [],
   "source": [
    "#Callback\n",
    "callback = EarlyStopping(\n",
    "    monitor='val_accuracy',\n",
    "    verbose=1,\n",
    "    patience=2,\n",
    "    restore_best_weights=True\n",
    ")"
   ]
  },
  {
   "cell_type": "code",
   "execution_count": 24,
   "metadata": {},
   "outputs": [
    {
     "name": "stdout",
     "output_type": "stream",
     "text": [
      "Epoch 1/10\n",
      "87/87 [==============================] - 123s 1s/step - loss: 3.0068 - accuracy: 0.1597 - val_loss: 1.6413 - val_accuracy: 0.5733\n",
      "Epoch 2/10\n",
      "87/87 [==============================] - 104s 1s/step - loss: 0.9172 - accuracy: 0.7652 - val_loss: 0.1867 - val_accuracy: 0.9855\n",
      "Epoch 3/10\n",
      "87/87 [==============================] - 104s 1s/step - loss: 0.1462 - accuracy: 0.9869 - val_loss: 0.0685 - val_accuracy: 0.9942\n",
      "Epoch 4/10\n",
      "87/87 [==============================] - 101s 1s/step - loss: 0.2073 - accuracy: 0.9604 - val_loss: 0.1227 - val_accuracy: 0.9710\n",
      "Epoch 5/10\n",
      "87/87 [==============================] - 99s 1s/step - loss: 0.1277 - accuracy: 0.9757 - val_loss: 0.0406 - val_accuracy: 0.9971\n",
      "Epoch 6/10\n",
      "87/87 [==============================] - 106s 1s/step - loss: 0.0595 - accuracy: 0.9924 - val_loss: 0.0188 - val_accuracy: 0.9956\n",
      "Epoch 7/10\n",
      "87/87 [==============================] - 102s 1s/step - loss: 0.0250 - accuracy: 0.9982 - val_loss: 0.0037 - val_accuracy: 1.0000\n",
      "Epoch 8/10\n",
      "87/87 [==============================] - 103s 1s/step - loss: 0.1348 - accuracy: 0.9619 - val_loss: 0.6062 - val_accuracy: 0.8520\n",
      "Epoch 9/10\n",
      "87/87 [==============================] - 106s 1s/step - loss: 0.4667 - accuracy: 0.8664 - val_loss: 0.1434 - val_accuracy: 0.9710\n",
      "Epoch 10/10\n",
      "87/87 [==============================] - 103s 1s/step - loss: 0.0747 - accuracy: 0.9837 - val_loss: 0.0112 - val_accuracy: 1.0000\n"
     ]
    }
   ],
   "source": [
    "# Fit model\n",
    "# tf.config.run_functions_eagerly(True)\n",
    "\n",
    "history = model.fit(X_train,\n",
    "                    y_train,\n",
    "                    validation_data=(X_val, y_val),\n",
    "                    verbose=1,\n",
    "                    callbacks=[callback],\n",
    "                    epochs=10)"
   ]
  },
  {
   "cell_type": "code",
   "execution_count": 25,
   "metadata": {},
   "outputs": [
    {
     "name": "stdout",
     "output_type": "stream",
     "text": [
      "47/47 [==============================] - 15s 320ms/step - loss: 0.0115 - accuracy: 1.0000\n"
     ]
    },
    {
     "data": {
      "text/plain": [
       "[0.011538316495716572, 1.0]"
      ]
     },
     "execution_count": 25,
     "metadata": {},
     "output_type": "execute_result"
    }
   ],
   "source": [
    "# evaluate the model with test data\n",
    "model.evaluate(X_test, y_test, verbose=1)"
   ]
  },
  {
   "cell_type": "code",
   "execution_count": 26,
   "metadata": {},
   "outputs": [
    {
     "data": {
      "image/png": "[encoded data removed]",
      "text/plain": [
       "<Figure size 432x288 with 1 Axes>"
      ]
     },
     "metadata": {
      "needs_background": "light"
     },
     "output_type": "display_data"
    },
    {
     "data": {
      "image/png": "[encoded data removed]",
      "text/plain": [
       "<Figure size 432x288 with 1 Axes>"
      ]
     },
     "metadata": {
      "needs_background": "light"
     },
     "output_type": "display_data"
    }
   ],
   "source": [
    "# Visualize Loss & Accuracy\n",
    "\n",
    "%matplotlib inline\n",
    "import matplotlib.pyplot as plt\n",
    "\n",
    "\n",
    "acc = history.history['accuracy']\n",
    "val_acc = history.history['val_accuracy']\n",
    "loss = history.history['loss']\n",
    "val_loss = history.history['val_loss']\n",
    "\n",
    "epochs = range(len(acc))\n",
    "\n",
    "plt.plot(epochs, acc, 'r', label='Training accuracy')\n",
    "plt.plot(epochs, val_acc, 'b', label='Validation accuracy')\n",
    "plt.title('Training and validation accuracy')\n",
    "plt.legend()\n",
    "plt.figure()\n",
    "\n",
    "plt.plot(epochs, loss, 'r', label='Training Loss')\n",
    "plt.plot(epochs, val_loss, 'b', label='Validation Loss')\n",
    "plt.title('Training and validation loss')\n",
    "plt.legend()\n",
    "\n",
    "plt.show()"
   ]
  },
  {
   "cell_type": "markdown",
   "metadata": {},
   "source": [
    "### Save Tensorflow Bert Model"
   ]
  },
  {
   "cell_type": "code",
   "execution_count": 27,
   "metadata": {},
   "outputs": [
    {
     "name": "stderr",
     "output_type": "stream",
     "text": [
      "WARNING:absl:Found untraced functions such as restored_function_body, restored_function_body, restored_function_body, restored_function_body, restored_function_body while saving (showing 5 of 186). These functions will not be directly callable after loading.\n"
     ]
    },
    {
     "name": "stdout",
     "output_type": "stream",
     "text": [
      "INFO:tensorflow:Assets written to: model/model-tensorflow-bert.hub\\assets\n"
     ]
    },
    {
     "name": "stderr",
     "output_type": "stream",
     "text": [
      "INFO:tensorflow:Assets written to: model/model-tensorflow-bert.hub\\assets\n"
     ]
    }
   ],
   "source": [
    "import numpy as np\n",
    "\n",
    "model.save('model/model-tensorflow-bert.hub')\n",
    "\n",
    "# np.save('model/classes_encoder.npy', le.classes_)"
   ]
  },
  {
   "cell_type": "markdown",
   "metadata": {},
   "source": [
    "### Testing Bert Model"
   ]
  },
  {
   "cell_type": "code",
   "execution_count": 28,
   "metadata": {},
   "outputs": [
    {
     "data": {
      "text/plain": [
       "array('stomach pain acidity ulcers on tongue vomiting cough chest pain',\n",
       "      dtype='<U63')"
      ]
     },
     "execution_count": 28,
     "metadata": {},
     "output_type": "execute_result"
    }
   ],
   "source": [
    "np.array(X_train[0])"
   ]
  },
  {
   "cell_type": "code",
   "execution_count": 29,
   "metadata": {},
   "outputs": [
    {
     "name": "stdout",
     "output_type": "stream",
     "text": [
      "1/1 [==============================] - 1s 890ms/step\n",
      "1/1 [==============================] - 0s 42ms/step\n",
      "gerd : 0.9975273013114929\n",
      "\n"
     ]
    }
   ],
   "source": [
    "# Classify custom sample\n",
    "\n",
    "sentences = [\n",
    "            \"stomach pain acidity ulcers on tongue\",\n",
    "            ]\n",
    "\n",
    "sentences = np.array(sentences, dtype='object')\n",
    "result = le.inverse_transform(np.argmax(model.predict(sentences), axis=-1))[0]\n",
    "proba =  np.max(model.predict(sentences))\n",
    "print(f\"{result} : {proba}\\n\")"
   ]
  },
  {
   "cell_type": "code",
   "execution_count": 30,
   "metadata": {},
   "outputs": [
    {
     "name": "stdout",
     "output_type": "stream",
     "text": [
      "1/1 [==============================] - 0s 168ms/step\n"
     ]
    },
    {
     "data": {
      "text/plain": [
       "TopKV2(values=<tf.Tensor: shape=(1, 3), dtype=float32, numpy=array([[9.9752730e-01, 6.8415771e-04, 3.7385337e-04]], dtype=float32)>, indices=<tf.Tensor: shape=(1, 3), dtype=int32, numpy=array([[16, 15, 39]])>)"
      ]
     },
     "execution_count": 30,
     "metadata": {},
     "output_type": "execute_result"
    }
   ],
   "source": [
    "preds = tf.math.top_k(model.predict(sentences), k=3)\n",
    "preds"
   ]
  },
  {
   "cell_type": "code",
   "execution_count": 31,
   "metadata": {},
   "outputs": [
    {
     "data": {
      "text/plain": [
       "[0.9975273013114929, 0.0006841577123850584, 0.0003738533705472946]"
      ]
     },
     "execution_count": 31,
     "metadata": {},
     "output_type": "execute_result"
    }
   ],
   "source": [
    "preds[0][0].numpy().tolist()"
   ]
  },
  {
   "cell_type": "code",
   "execution_count": 32,
   "metadata": {},
   "outputs": [
    {
     "data": {
      "text/plain": [
       "array([16, 15, 39])"
      ]
     },
     "execution_count": 32,
     "metadata": {},
     "output_type": "execute_result"
    }
   ],
   "source": [
    "preds[1][0].numpy()"
   ]
  },
  {
   "cell_type": "code",
   "execution_count": 33,
   "metadata": {},
   "outputs": [],
   "source": [
    "preds = le.inverse_transform(preds[1][0].numpy())"
   ]
  },
  {
   "cell_type": "code",
   "execution_count": 34,
   "metadata": {},
   "outputs": [
    {
     "data": {
      "text/plain": [
       "array(['gerd', 'gastroenteritis', 'varicose-veins'], dtype=object)"
      ]
     },
     "execution_count": 34,
     "metadata": {},
     "output_type": "execute_result"
    }
   ],
   "source": [
    "preds"
   ]
  },
  {
   "cell_type": "code",
   "execution_count": 35,
   "metadata": {},
   "outputs": [
    {
     "name": "stdout",
     "output_type": "stream",
     "text": [
      "1/1 [==============================] - 0s 42ms/step\n"
     ]
    }
   ],
   "source": [
    "text = np.array(['itching'], dtype='object')\n",
    "pred = model.predict(text)\n",
    "preds = tf.math.top_k(pred, k=3)\n",
    "list_predictions = le.inverse_transform(preds[1][0].numpy())\n",
    "list_score = preds[0][0].numpy().tolist()"
   ]
  },
  {
   "cell_type": "code",
   "execution_count": 36,
   "metadata": {},
   "outputs": [
    {
     "data": {
      "text/plain": [
       "array(['jaundice', 'chronic-cholestasis', 'fungal-infection'],\n",
       "      dtype=object)"
      ]
     },
     "execution_count": 36,
     "metadata": {},
     "output_type": "execute_result"
    }
   ],
   "source": [
    "list_predictions"
   ]
  },
  {
   "cell_type": "code",
   "execution_count": 37,
   "metadata": {},
   "outputs": [
    {
     "data": {
      "text/plain": [
       "[0.9295939803123474, 0.03960622102022171, 0.016750629991292953]"
      ]
     },
     "execution_count": 37,
     "metadata": {},
     "output_type": "execute_result"
    }
   ],
   "source": [
    "list_score"
   ]
  },
  {
   "cell_type": "markdown",
   "metadata": {},
   "source": [
    "### Test Load Bert Model"
   ]
  },
  {
   "cell_type": "code",
   "execution_count": 38,
   "metadata": {},
   "outputs": [],
   "source": [
    "load_model = hub.KerasLayer(\"./model/model-tensorflow-bert.hub\")"
   ]
  },
  {
   "cell_type": "code",
   "execution_count": 42,
   "metadata": {},
   "outputs": [
    {
     "name": "stdout",
     "output_type": "stream",
     "text": [
      "1/1 [==============================] - 0s 44ms/step\n",
      "jaundice : 0.9975273013114929\n",
      "\n"
     ]
    }
   ],
   "source": [
    "result = le.inverse_transform(np.argmax(load_model(['itching']), axis=-1))[0]\n",
    "proba =  np.max(model.predict(sentences))\n",
    "print(f\"{result} : {proba}\\n\")"
   ]
  },
  {
   "cell_type": "code",
   "execution_count": null,
   "metadata": {},
   "outputs": [],
   "source": []
  }
 ],
 "metadata": {
  "kernelspec": {
   "display_name": "Python 3.8.6 64-bit",
   "language": "python",
   "name": "python3"
  },
  "language_info": {
   "codemirror_mode": {
    "name": "ipython",
    "version": 3
   },
   "file_extension": ".py",
   "mimetype": "text/x-python",
   "name": "python",
   "nbconvert_exporter": "python",
   "pygments_lexer": "ipython3",
   "version": "3.8.6"
  },
  "orig_nbformat": 4,
  "vscode": {
   "interpreter": {
    "hash": "bc491cab7f8e518b8661983684ee0bfd3cedaf06faa2175782bbf43c1e59e7f0"
   }
  }
 },
 "nbformat": 4,
 "nbformat_minor": 2
}
