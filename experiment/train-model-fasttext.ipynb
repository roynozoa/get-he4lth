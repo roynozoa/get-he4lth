{
 "cells": [
  {
   "cell_type": "markdown",
   "metadata": {},
   "source": [
    "### For Run in Google Colab"
   ]
  },
  {
   "cell_type": "code",
   "execution_count": 1,
   "metadata": {},
   "outputs": [
    {
     "name": "stderr",
     "output_type": "stream",
     "text": [
      "WARNING: You are using pip version 21.1.3; however, version 22.1.2 is available.\n",
      "You should consider upgrading via the 'C:\\Users\\Roy\\.virtualenvs\\ML-Developer\\Scripts\\python.exe -m pip install --upgrade pip' command.\n"
     ]
    },
    {
     "name": "stdout",
     "output_type": "stream",
     "text": [
      "Collecting emoji\n",
      "  Downloading emoji-1.7.0.tar.gz (175 kB)\n",
      "Building wheels for collected packages: emoji\n",
      "  Building wheel for emoji (setup.py): started\n",
      "  Building wheel for emoji (setup.py): finished with status 'done'\n",
      "  Created wheel for emoji: filename=emoji-1.7.0-py3-none-any.whl size=171047 sha256=f2b82e7aa3740f0530f510b5df135d1f552f5118db0dd1d69b03ac0a714355c6\n",
      "  Stored in directory: c:\\users\\roy\\appdata\\local\\pip\\cache\\wheels\\5e\\8c\\80\\c3646df8201ba6f5070297fe3779a4b70265d0bfd961c15302\n",
      "Successfully built emoji\n",
      "Installing collected packages: emoji\n",
      "Successfully installed emoji-1.7.0\n"
     ]
    }
   ],
   "source": [
    "%%capture\n",
    "!pip install fasttext\n",
    "!pip install emoji"
   ]
  },
  {
   "cell_type": "code",
   "execution_count": null,
   "metadata": {},
   "outputs": [],
   "source": [
    "from google.colab import drive\n",
    "import os\n",
    "\n",
    "drive.mount('/content/drive')\n",
    "os.chdir(\"/content/drive/MyDrive/Healthcare/\")"
   ]
  },
  {
   "cell_type": "markdown",
   "metadata": {},
   "source": [
    "### Import Library"
   ]
  },
  {
   "cell_type": "code",
   "execution_count": 2,
   "metadata": {},
   "outputs": [],
   "source": [
    "import os\n",
    "import csv\n",
    "import time\n",
    "import json\n",
    "import emoji\n",
    "import fasttext\n",
    "import numpy as np\n",
    "import pandas as pd\n",
    "import string\n",
    "# import mlflow\n",
    "import json\n",
    "import pickle\n",
    "\n",
    "from datetime import date\n",
    "\n",
    "from sklearn.model_selection import train_test_split\n",
    "from sklearn.metrics import (f1_score,\n",
    "                             precision_score,\n",
    "                             recall_score, \n",
    "                             accuracy_score)"
   ]
  },
  {
   "cell_type": "markdown",
   "metadata": {},
   "source": [
    "### Train Model"
   ]
  },
  {
   "cell_type": "code",
   "execution_count": 3,
   "metadata": {},
   "outputs": [],
   "source": [
    "trainset_path = './dataset/train_fasttext.txt'\n",
    "testset_path = './dataset/test_dataset.csv'\n",
    "\n",
    "model = fasttext.train_supervised(\n",
    "                    input = trainset_path,\n",
    "                    autotuneModelSize = \"10M\",\n",
    "                    autotuneDuration = 600,\n",
    "                    verbose = 1\n",
    "  )\n",
    "  "
   ]
  },
  {
   "cell_type": "code",
   "execution_count": null,
   "metadata": {},
   "outputs": [],
   "source": []
  },
  {
   "cell_type": "markdown",
   "metadata": {},
   "source": [
    "### Evaluate the model"
   ]
  },
  {
   "cell_type": "code",
   "execution_count": 4,
   "metadata": {},
   "outputs": [],
   "source": [
    "# Do inference on dataset\n",
    "test_dataset = pd.read_csv(testset_path)\n",
    "\n",
    "test_dataset[\"label predict\"] = test_dataset['TEXT'].apply(\n",
    "    lambda x:model.predict(x,k=1)[0][0].replace(\"__label__\",\"\"))\n",
    "test_dataset[\"score predict\"] = test_dataset['TEXT'].apply(\n",
    "    lambda x:model.predict(x,k=1)[1][0])"
   ]
  },
  {
   "cell_type": "code",
   "execution_count": 5,
   "metadata": {},
   "outputs": [
    {
     "data": {
      "text/html": [
       "<div>\n",
       "<style scoped>\n",
       "    .dataframe tbody tr th:only-of-type {\n",
       "        vertical-align: middle;\n",
       "    }\n",
       "\n",
       "    .dataframe tbody tr th {\n",
       "        vertical-align: top;\n",
       "    }\n",
       "\n",
       "    .dataframe thead th {\n",
       "        text-align: right;\n",
       "    }\n",
       "</style>\n",
       "<table border=\"1\" class=\"dataframe\">\n",
       "  <thead>\n",
       "    <tr style=\"text-align: right;\">\n",
       "      <th></th>\n",
       "      <th>TEXT</th>\n",
       "      <th>LABEL</th>\n",
       "      <th>label predict</th>\n",
       "      <th>score predict</th>\n",
       "    </tr>\n",
       "  </thead>\n",
       "  <tbody>\n",
       "    <tr>\n",
       "      <th>0</th>\n",
       "      <td>fatigue mood swings weight loss restlessness s...</td>\n",
       "      <td>hyperthyroidism</td>\n",
       "      <td>hyperthyroidism</td>\n",
       "      <td>0.515141</td>\n",
       "    </tr>\n",
       "    <tr>\n",
       "      <th>1</th>\n",
       "      <td>skin rash chills joint pain vomiting fatigue h...</td>\n",
       "      <td>dengue</td>\n",
       "      <td>dengue</td>\n",
       "      <td>0.517676</td>\n",
       "    </tr>\n",
       "    <tr>\n",
       "      <th>2</th>\n",
       "      <td>joint pain vomiting fatigue yellowish skin dar...</td>\n",
       "      <td>hepatitis-d</td>\n",
       "      <td>hepatitis-d</td>\n",
       "      <td>0.359309</td>\n",
       "    </tr>\n",
       "    <tr>\n",
       "      <th>3</th>\n",
       "      <td>chills vomiting fatigue weight loss cough high...</td>\n",
       "      <td>tuberculosis</td>\n",
       "      <td>tuberculosis</td>\n",
       "      <td>0.620065</td>\n",
       "    </tr>\n",
       "    <tr>\n",
       "      <th>4</th>\n",
       "      <td>skin rash high fever blister red sore around n...</td>\n",
       "      <td>impetigo</td>\n",
       "      <td>impetigo</td>\n",
       "      <td>0.769440</td>\n",
       "    </tr>\n",
       "    <tr>\n",
       "      <th>...</th>\n",
       "      <td>...</td>\n",
       "      <td>...</td>\n",
       "      <td>...</td>\n",
       "      <td>...</td>\n",
       "    </tr>\n",
       "    <tr>\n",
       "      <th>1471</th>\n",
       "      <td>continuous sneezing shivering chills watering ...</td>\n",
       "      <td>allergy</td>\n",
       "      <td>allergy</td>\n",
       "      <td>0.929228</td>\n",
       "    </tr>\n",
       "    <tr>\n",
       "      <th>1472</th>\n",
       "      <td>cramps bruising obesity swollen legs swollen b...</td>\n",
       "      <td>varicose-veins</td>\n",
       "      <td>varicose-veins</td>\n",
       "      <td>0.735387</td>\n",
       "    </tr>\n",
       "    <tr>\n",
       "      <th>1473</th>\n",
       "      <td>chills cough high fever breathlessness sweatin...</td>\n",
       "      <td>pneumonia</td>\n",
       "      <td>pneumonia</td>\n",
       "      <td>0.778275</td>\n",
       "    </tr>\n",
       "    <tr>\n",
       "      <th>1474</th>\n",
       "      <td>joint pain neck pain knee pain hip joint pain ...</td>\n",
       "      <td>osteoarthristis</td>\n",
       "      <td>osteoarthristis</td>\n",
       "      <td>0.873282</td>\n",
       "    </tr>\n",
       "    <tr>\n",
       "      <th>1475</th>\n",
       "      <td>fatigue cough high fever breathlessness family...</td>\n",
       "      <td>bronchial-asthma</td>\n",
       "      <td>bronchial-asthma</td>\n",
       "      <td>0.868413</td>\n",
       "    </tr>\n",
       "  </tbody>\n",
       "</table>\n",
       "<p>1476 rows × 4 columns</p>\n",
       "</div>"
      ],
      "text/plain": [
       "                                                   TEXT             LABEL  \\\n",
       "0     fatigue mood swings weight loss restlessness s...   hyperthyroidism   \n",
       "1     skin rash chills joint pain vomiting fatigue h...            dengue   \n",
       "2     joint pain vomiting fatigue yellowish skin dar...       hepatitis-d   \n",
       "3     chills vomiting fatigue weight loss cough high...      tuberculosis   \n",
       "4     skin rash high fever blister red sore around n...          impetigo   \n",
       "...                                                 ...               ...   \n",
       "1471  continuous sneezing shivering chills watering ...           allergy   \n",
       "1472  cramps bruising obesity swollen legs swollen b...    varicose-veins   \n",
       "1473  chills cough high fever breathlessness sweatin...         pneumonia   \n",
       "1474  joint pain neck pain knee pain hip joint pain ...   osteoarthristis   \n",
       "1475  fatigue cough high fever breathlessness family...  bronchial-asthma   \n",
       "\n",
       "         label predict  score predict  \n",
       "0      hyperthyroidism       0.515141  \n",
       "1               dengue       0.517676  \n",
       "2          hepatitis-d       0.359309  \n",
       "3         tuberculosis       0.620065  \n",
       "4             impetigo       0.769440  \n",
       "...                ...            ...  \n",
       "1471           allergy       0.929228  \n",
       "1472    varicose-veins       0.735387  \n",
       "1473         pneumonia       0.778275  \n",
       "1474   osteoarthristis       0.873282  \n",
       "1475  bronchial-asthma       0.868413  \n",
       "\n",
       "[1476 rows x 4 columns]"
      ]
     },
     "execution_count": 5,
     "metadata": {},
     "output_type": "execute_result"
    }
   ],
   "source": [
    "test_dataset"
   ]
  },
  {
   "cell_type": "code",
   "execution_count": 13,
   "metadata": {},
   "outputs": [],
   "source": [
    "from tqdm.notebook import tqdm\n",
    "from tqdm import tqdm\n",
    "\n",
    "tqdm.pandas()\n",
    "\n",
    "from sklearn.metrics import (f1_score,\n",
    "                             precision_score,\n",
    "                             recall_score, \n",
    "                             accuracy_score)\n",
    "\n",
    "def check_accuracy(model, text, label, n):\n",
    "    pred = model.predict(text,k=8)[0]\n",
    "    pred = [lbl.replace(\"__label__\",\"\") for lbl in pred]\n",
    "    if label in pred[:n]: return True\n",
    "    return False"
   ]
  },
  {
   "cell_type": "code",
   "execution_count": 14,
   "metadata": {},
   "outputs": [
    {
     "name": "stderr",
     "output_type": "stream",
     "text": [
      "\n",
      "\n",
      "\u001b[A\u001b[A\n",
      "\n",
      "100%|██████████| 1476/1476 [00:00<00:00, 10250.74it/s]\n",
      "\n",
      "\n",
      "\u001b[A\u001b[A\n",
      "\n",
      "100%|██████████| 1476/1476 [00:00<00:00, 11267.36it/s]\n",
      "\n",
      "\n",
      "\u001b[A\u001b[A\n",
      "\n",
      "100%|██████████| 1476/1476 [00:00<00:00, 8531.50it/s]\n"
     ]
    }
   ],
   "source": [
    "accuracy = accuracy_score(\n",
    "                  test_dataset[\"LABEL\"],\n",
    "                  test_dataset[\"label predict\"]\n",
    "  )\n",
    "precision = precision_score(\n",
    "                  test_dataset[\"LABEL\"],\n",
    "                  test_dataset[\"label predict\"],\n",
    "                  average=\"weighted\"\n",
    "  )\n",
    "recall = recall_score(\n",
    "                  test_dataset[\"LABEL\"],\n",
    "                  test_dataset[\"label predict\"],\n",
    "                  average=\"weighted\"\n",
    "  )\n",
    "f1 = f1_score(test_dataset[\"LABEL\"],\n",
    "              test_dataset[\"label predict\"],\n",
    "              average=\"weighted\")\n",
    "\n",
    "test_dataset[\"top1\"] = test_dataset.progress_apply(\n",
    "                    lambda x: check_accuracy(model = model,\n",
    "                                              text = x[\"TEXT\"],\n",
    "                                              label = x[\"LABEL\"],\n",
    "                                              n = 1), axis=1)\n",
    "\n",
    "test_dataset[\"top3\"] = test_dataset.progress_apply(\n",
    "                    lambda x: check_accuracy(model = model,\n",
    "                                              text = x[\"TEXT\"],\n",
    "                                              label = x[\"LABEL\"],\n",
    "                                              n = 3), axis=1)\n",
    "\n",
    "test_dataset[\"top8\"] = test_dataset.progress_apply(\n",
    "                    lambda x: check_accuracy(model = model,\n",
    "                                              text = x[\"TEXT\"],\n",
    "                                              label = x[\"LABEL\"],\n",
    "                                              n = 8), axis=1)\n",
    "\n",
    "top1 = test_dataset[\"top1\"].value_counts(normalize=True).loc[True]\n",
    "top3 = test_dataset[\"top3\"].value_counts(normalize=True).loc[True]\n",
    "top8 = test_dataset[\"top8\"].value_counts(normalize=True).loc[True]\n",
    "\n",
    "metric_result = {\"top1\":top1,\n",
    "                  \"top3\":top3,\n",
    "                  \"top8\":top8,\n",
    "                  \"accuracy\":accuracy,\n",
    "                  \"precision\":precision,\n",
    "                  \"recall\":recall,\n",
    "                  \"f1\":f1}\n",
    "  "
   ]
  },
  {
   "cell_type": "code",
   "execution_count": 15,
   "metadata": {},
   "outputs": [
    {
     "data": {
      "text/plain": [
       "{'top1': 0.9911924119241192,\n",
       " 'top3': 1.0,\n",
       " 'top8': 1.0,\n",
       " 'accuracy': 0.9911924119241192,\n",
       " 'precision': 0.991874940714917,\n",
       " 'recall': 0.9911924119241192,\n",
       " 'f1': 0.9911393391031353}"
      ]
     },
     "execution_count": 15,
     "metadata": {},
     "output_type": "execute_result"
    }
   ],
   "source": [
    "metric_result"
   ]
  },
  {
   "cell_type": "code",
   "execution_count": 16,
   "metadata": {},
   "outputs": [
    {
     "data": {
      "text/html": [
       "<div>\n",
       "<style scoped>\n",
       "    .dataframe tbody tr th:only-of-type {\n",
       "        vertical-align: middle;\n",
       "    }\n",
       "\n",
       "    .dataframe tbody tr th {\n",
       "        vertical-align: top;\n",
       "    }\n",
       "\n",
       "    .dataframe thead th {\n",
       "        text-align: right;\n",
       "    }\n",
       "</style>\n",
       "<table border=\"1\" class=\"dataframe\">\n",
       "  <thead>\n",
       "    <tr style=\"text-align: right;\">\n",
       "      <th></th>\n",
       "      <th>TEXT</th>\n",
       "      <th>LABEL</th>\n",
       "      <th>label predict</th>\n",
       "      <th>score predict</th>\n",
       "      <th>top1</th>\n",
       "      <th>top3</th>\n",
       "      <th>top8</th>\n",
       "    </tr>\n",
       "  </thead>\n",
       "  <tbody>\n",
       "    <tr>\n",
       "      <th>36</th>\n",
       "      <td>itching skin rash burning micturition spotting...</td>\n",
       "      <td>drug-reaction</td>\n",
       "      <td>fungal-infection</td>\n",
       "      <td>0.424881</td>\n",
       "      <td>False</td>\n",
       "      <td>True</td>\n",
       "      <td>True</td>\n",
       "    </tr>\n",
       "    <tr>\n",
       "      <th>125</th>\n",
       "      <td>itching skin rash burning micturition spotting...</td>\n",
       "      <td>drug-reaction</td>\n",
       "      <td>fungal-infection</td>\n",
       "      <td>0.424881</td>\n",
       "      <td>False</td>\n",
       "      <td>True</td>\n",
       "      <td>True</td>\n",
       "    </tr>\n",
       "    <tr>\n",
       "      <th>147</th>\n",
       "      <td>vomiting fatigue yellowish skin dark urine nau...</td>\n",
       "      <td>hepatitis-d</td>\n",
       "      <td>chronic-cholestasis</td>\n",
       "      <td>0.311154</td>\n",
       "      <td>False</td>\n",
       "      <td>True</td>\n",
       "      <td>True</td>\n",
       "    </tr>\n",
       "    <tr>\n",
       "      <th>202</th>\n",
       "      <td>back pain weakness in limbs neck pain dizziness</td>\n",
       "      <td>cervical-spondylosis</td>\n",
       "      <td>dimorphic-hemmorhoidspiles</td>\n",
       "      <td>0.428165</td>\n",
       "      <td>False</td>\n",
       "      <td>True</td>\n",
       "      <td>True</td>\n",
       "    </tr>\n",
       "    <tr>\n",
       "      <th>256</th>\n",
       "      <td>joint pain vomiting fatigue yellowish skin dar...</td>\n",
       "      <td>hepatitis-d</td>\n",
       "      <td>hepatitis-a</td>\n",
       "      <td>0.336585</td>\n",
       "      <td>False</td>\n",
       "      <td>True</td>\n",
       "      <td>True</td>\n",
       "    </tr>\n",
       "    <tr>\n",
       "      <th>338</th>\n",
       "      <td>itching skin rash burning micturition spotting...</td>\n",
       "      <td>drug-reaction</td>\n",
       "      <td>fungal-infection</td>\n",
       "      <td>0.424881</td>\n",
       "      <td>False</td>\n",
       "      <td>True</td>\n",
       "      <td>True</td>\n",
       "    </tr>\n",
       "    <tr>\n",
       "      <th>506</th>\n",
       "      <td>vomiting fatigue yellowish skin dark urine nau...</td>\n",
       "      <td>hepatitis-d</td>\n",
       "      <td>chronic-cholestasis</td>\n",
       "      <td>0.311154</td>\n",
       "      <td>False</td>\n",
       "      <td>True</td>\n",
       "      <td>True</td>\n",
       "    </tr>\n",
       "    <tr>\n",
       "      <th>514</th>\n",
       "      <td>itching skin rash burning micturition spotting...</td>\n",
       "      <td>drug-reaction</td>\n",
       "      <td>fungal-infection</td>\n",
       "      <td>0.424881</td>\n",
       "      <td>False</td>\n",
       "      <td>True</td>\n",
       "      <td>True</td>\n",
       "    </tr>\n",
       "    <tr>\n",
       "      <th>821</th>\n",
       "      <td>back pain weakness in limbs neck pain dizziness</td>\n",
       "      <td>cervical-spondylosis</td>\n",
       "      <td>dimorphic-hemmorhoidspiles</td>\n",
       "      <td>0.428165</td>\n",
       "      <td>False</td>\n",
       "      <td>True</td>\n",
       "      <td>True</td>\n",
       "    </tr>\n",
       "    <tr>\n",
       "      <th>838</th>\n",
       "      <td>itching skin rash burning micturition spotting...</td>\n",
       "      <td>drug-reaction</td>\n",
       "      <td>fungal-infection</td>\n",
       "      <td>0.424881</td>\n",
       "      <td>False</td>\n",
       "      <td>True</td>\n",
       "      <td>True</td>\n",
       "    </tr>\n",
       "    <tr>\n",
       "      <th>1021</th>\n",
       "      <td>back pain weakness in limbs neck pain dizziness</td>\n",
       "      <td>cervical-spondylosis</td>\n",
       "      <td>dimorphic-hemmorhoidspiles</td>\n",
       "      <td>0.428165</td>\n",
       "      <td>False</td>\n",
       "      <td>True</td>\n",
       "      <td>True</td>\n",
       "    </tr>\n",
       "    <tr>\n",
       "      <th>1213</th>\n",
       "      <td>vomiting fatigue yellowish skin dark urine nau...</td>\n",
       "      <td>hepatitis-d</td>\n",
       "      <td>chronic-cholestasis</td>\n",
       "      <td>0.311154</td>\n",
       "      <td>False</td>\n",
       "      <td>True</td>\n",
       "      <td>True</td>\n",
       "    </tr>\n",
       "    <tr>\n",
       "      <th>1356</th>\n",
       "      <td>joint pain vomiting fatigue yellowish skin dar...</td>\n",
       "      <td>hepatitis-e</td>\n",
       "      <td>hepatitis-d</td>\n",
       "      <td>0.288372</td>\n",
       "      <td>False</td>\n",
       "      <td>True</td>\n",
       "      <td>True</td>\n",
       "    </tr>\n",
       "  </tbody>\n",
       "</table>\n",
       "</div>"
      ],
      "text/plain": [
       "                                                   TEXT                 LABEL  \\\n",
       "36    itching skin rash burning micturition spotting...         drug-reaction   \n",
       "125   itching skin rash burning micturition spotting...         drug-reaction   \n",
       "147   vomiting fatigue yellowish skin dark urine nau...           hepatitis-d   \n",
       "202     back pain weakness in limbs neck pain dizziness  cervical-spondylosis   \n",
       "256   joint pain vomiting fatigue yellowish skin dar...           hepatitis-d   \n",
       "338   itching skin rash burning micturition spotting...         drug-reaction   \n",
       "506   vomiting fatigue yellowish skin dark urine nau...           hepatitis-d   \n",
       "514   itching skin rash burning micturition spotting...         drug-reaction   \n",
       "821     back pain weakness in limbs neck pain dizziness  cervical-spondylosis   \n",
       "838   itching skin rash burning micturition spotting...         drug-reaction   \n",
       "1021    back pain weakness in limbs neck pain dizziness  cervical-spondylosis   \n",
       "1213  vomiting fatigue yellowish skin dark urine nau...           hepatitis-d   \n",
       "1356  joint pain vomiting fatigue yellowish skin dar...           hepatitis-e   \n",
       "\n",
       "                   label predict  score predict   top1  top3  top8  \n",
       "36              fungal-infection       0.424881  False  True  True  \n",
       "125             fungal-infection       0.424881  False  True  True  \n",
       "147          chronic-cholestasis       0.311154  False  True  True  \n",
       "202   dimorphic-hemmorhoidspiles       0.428165  False  True  True  \n",
       "256                  hepatitis-a       0.336585  False  True  True  \n",
       "338             fungal-infection       0.424881  False  True  True  \n",
       "506          chronic-cholestasis       0.311154  False  True  True  \n",
       "514             fungal-infection       0.424881  False  True  True  \n",
       "821   dimorphic-hemmorhoidspiles       0.428165  False  True  True  \n",
       "838             fungal-infection       0.424881  False  True  True  \n",
       "1021  dimorphic-hemmorhoidspiles       0.428165  False  True  True  \n",
       "1213         chronic-cholestasis       0.311154  False  True  True  \n",
       "1356                 hepatitis-d       0.288372  False  True  True  "
      ]
     },
     "execution_count": 16,
     "metadata": {},
     "output_type": "execute_result"
    }
   ],
   "source": [
    "# Check incorrect label\n",
    "test_dataset[test_dataset['label predict'] != test_dataset['LABEL']]"
   ]
  },
  {
   "cell_type": "code",
   "execution_count": 17,
   "metadata": {},
   "outputs": [],
   "source": [
    "model.save_model(\"model/model.ftz\")"
   ]
  },
  {
   "cell_type": "code",
   "execution_count": 18,
   "metadata": {},
   "outputs": [],
   "source": [
    "import json\n",
    "\n",
    "metric_result\n",
    "\n",
    "with open('model/metric_result_fasttext.json', 'w') as outfile:\n",
    "    json.dump(metric_result, outfile)"
   ]
  },
  {
   "cell_type": "markdown",
   "metadata": {},
   "source": [
    "### Try the model"
   ]
  },
  {
   "cell_type": "code",
   "execution_count": 19,
   "metadata": {},
   "outputs": [
    {
     "name": "stderr",
     "output_type": "stream",
     "text": [
      "Warning : `load_model` does not return WordVectorModel or SupervisedModel any more, but a `FastText` object which is very similar.\n"
     ]
    },
    {
     "data": {
      "text/plain": [
       "(('__label__cervical-spondylosis',\n",
       "  '__label__alcoholic-hepatitis',\n",
       "  '__label__osteoarthristis',\n",
       "  '__label__gerd'),\n",
       " array([0.41831651, 0.12049904, 0.11539995, 0.09048676]))"
      ]
     },
     "execution_count": 19,
     "metadata": {},
     "output_type": "execute_result"
    }
   ],
   "source": [
    "model = fasttext.load_model(\"model/model.ftz\")\n",
    "model.predict(\"swelling of stomach knee pain\", k=4)"
   ]
  },
  {
   "cell_type": "code",
   "execution_count": null,
   "metadata": {},
   "outputs": [],
   "source": []
  }
 ],
 "metadata": {
  "kernelspec": {
   "display_name": "Python 3.8.6 ('ML-Developer')",
   "language": "python",
   "name": "python3"
  },
  "language_info": {
   "codemirror_mode": {
    "name": "ipython",
    "version": 3
   },
   "file_extension": ".py",
   "mimetype": "text/x-python",
   "name": "python",
   "nbconvert_exporter": "python",
   "pygments_lexer": "ipython3",
   "version": "3.8.6"
  },
  "orig_nbformat": 4,
  "vscode": {
   "interpreter": {
    "hash": "f89036b38d471c229381d423ed0525e398c22cf1f6348bafe49c7e24c7f458f3"
   }
  }
 },
 "nbformat": 4,
 "nbformat_minor": 2
}
