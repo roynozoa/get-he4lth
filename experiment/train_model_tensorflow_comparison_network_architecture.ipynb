{
  "cells": [
    {
      "cell_type": "code",
      "execution_count": 4,
      "metadata": {
        "id": "AJjXAVjTKZzZ"
      },
      "outputs": [],
      "source": [
        "# import the library\n",
        "import os\n",
        "import csv\n",
        "import time\n",
        "import json\n",
        "import numpy as np\n",
        "import pandas as pd\n",
        "import string\n",
        "# import mlflow\n",
        "import json\n",
        "import pickle\n",
        "import tensorflow as tf\n",
        "\n",
        "from datetime import date\n",
        "\n",
        "from sklearn.model_selection import train_test_split\n",
        "from sklearn.metrics import (f1_score,\n",
        "                             precision_score,\n",
        "                             recall_score, \n",
        "                             accuracy_score)"
      ]
    },
    {
      "cell_type": "code",
      "execution_count": 5,
      "metadata": {
        "id": "btL-HTdoKZze"
      },
      "outputs": [],
      "source": [
        "# import the library\n",
        "from sklearn.preprocessing import LabelEncoder\n",
        "from sklearn.model_selection import train_test_split\n",
        "\n",
        "from tensorflow.keras.utils import to_categorical\n",
        "from tensorflow.keras.preprocessing.text import Tokenizer\n",
        "from tensorflow.keras.preprocessing.sequence import pad_sequences\n",
        "\n",
        "from tensorflow.keras.optimizers import Adam\n",
        "from tensorflow.keras.models import Sequential\n",
        "from tensorflow.keras.callbacks import EarlyStopping\n",
        "from tensorflow.keras.layers import Dense, Dropout, LSTM, Embedding, Bidirectional"
      ]
    },
    {
      "cell_type": "code",
      "execution_count": 6,
      "metadata": {
        "id": "jhd4eTSYKZzf"
      },
      "outputs": [],
      "source": [
        "# read dataset\n",
        "trainset_path = '/content/train_dataset.csv'\n",
        "testset_path = '/content/test_dataset.csv'\n",
        "\n",
        "train_df = pd.read_csv(trainset_path)\n",
        "test_df = pd.read_csv(testset_path)\n",
        "\n",
        "train_df.isna().sum()\n",
        "train_df.isnull().sum()\n",
        "train_df.isna().sum()\n",
        "test_df.isnull().sum()\n",
        "\n",
        "train_df = train_df.fillna('unknown')\n",
        "test_df = test_df.fillna('unknown')"
      ]
    },
    {
      "cell_type": "code",
      "execution_count": 7,
      "metadata": {
        "colab": {
          "base_uri": "https://localhost:8080/"
        },
        "id": "aRZiPyucKZzg",
        "outputId": "55f8e502-b54a-4b66-e28e-5cfc336d00d6"
      },
      "outputs": [
        {
          "output_type": "execute_result",
          "data": {
            "text/plain": [
              "41"
            ]
          },
          "metadata": {},
          "execution_count": 7
        }
      ],
      "source": [
        "len(train_df['LABEL'].unique())"
      ]
    },
    {
      "cell_type": "code",
      "execution_count": 8,
      "metadata": {
        "colab": {
          "base_uri": "https://localhost:8080/",
          "height": 424
        },
        "id": "uy8crCZoKZzg",
        "outputId": "8e443687-ceab-4ada-a449-41aa77a5d200"
      },
      "outputs": [
        {
          "output_type": "execute_result",
          "data": {
            "text/plain": [
              "                                                   TEXT  \\\n",
              "0     stomach pain acidity ulcers on tongue vomiting...   \n",
              "1     chills fatigue cough high fever sweating malai...   \n",
              "2     vomiting headache nausea spinning movements lo...   \n",
              "3     weight loss restlessness lethargy irregular su...   \n",
              "4      skin rash pus filled pimples blackheads scurring   \n",
              "...                                                 ...   \n",
              "3439  vomiting indigestion loss of appetite abdomina...   \n",
              "3440  chills vomiting sweating headache nausea diarr...   \n",
              "3441  skin rash joint pain skin peeling silver like ...   \n",
              "3442  joint pain vomiting fatigue high fever yellowi...   \n",
              "3443  vomiting yellowish skin abdominal pain swellin...   \n",
              "\n",
              "                                      LABEL  \n",
              "0                                      gerd  \n",
              "1                                 pneumonia  \n",
              "2     vertigo-paroymsal--positional-vertigo  \n",
              "3                                  diabetes  \n",
              "4                                      acne  \n",
              "...                                     ...  \n",
              "3439                    peptic-ulcer-diseae  \n",
              "3440                                malaria  \n",
              "3441                              psoriasis  \n",
              "3442                            hepatitis-e  \n",
              "3443                    alcoholic-hepatitis  \n",
              "\n",
              "[3444 rows x 2 columns]"
            ],
            "text/html": [
              "\n",
              "  <div id=\"df-2f590038-d3c4-4010-b24b-beceb4162206\">\n",
              "    <div class=\"colab-df-container\">\n",
              "      <div>\n",
              "<style scoped>\n",
              "    .dataframe tbody tr th:only-of-type {\n",
              "        vertical-align: middle;\n",
              "    }\n",
              "\n",
              "    .dataframe tbody tr th {\n",
              "        vertical-align: top;\n",
              "    }\n",
              "\n",
              "    .dataframe thead th {\n",
              "        text-align: right;\n",
              "    }\n",
              "</style>\n",
              "<table border=\"1\" class=\"dataframe\">\n",
              "  <thead>\n",
              "    <tr style=\"text-align: right;\">\n",
              "      <th></th>\n",
              "      <th>TEXT</th>\n",
              "      <th>LABEL</th>\n",
              "    </tr>\n",
              "  </thead>\n",
              "  <tbody>\n",
              "    <tr>\n",
              "      <th>0</th>\n",
              "      <td>stomach pain acidity ulcers on tongue vomiting...</td>\n",
              "      <td>gerd</td>\n",
              "    </tr>\n",
              "    <tr>\n",
              "      <th>1</th>\n",
              "      <td>chills fatigue cough high fever sweating malai...</td>\n",
              "      <td>pneumonia</td>\n",
              "    </tr>\n",
              "    <tr>\n",
              "      <th>2</th>\n",
              "      <td>vomiting headache nausea spinning movements lo...</td>\n",
              "      <td>vertigo-paroymsal--positional-vertigo</td>\n",
              "    </tr>\n",
              "    <tr>\n",
              "      <th>3</th>\n",
              "      <td>weight loss restlessness lethargy irregular su...</td>\n",
              "      <td>diabetes</td>\n",
              "    </tr>\n",
              "    <tr>\n",
              "      <th>4</th>\n",
              "      <td>skin rash pus filled pimples blackheads scurring</td>\n",
              "      <td>acne</td>\n",
              "    </tr>\n",
              "    <tr>\n",
              "      <th>...</th>\n",
              "      <td>...</td>\n",
              "      <td>...</td>\n",
              "    </tr>\n",
              "    <tr>\n",
              "      <th>3439</th>\n",
              "      <td>vomiting indigestion loss of appetite abdomina...</td>\n",
              "      <td>peptic-ulcer-diseae</td>\n",
              "    </tr>\n",
              "    <tr>\n",
              "      <th>3440</th>\n",
              "      <td>chills vomiting sweating headache nausea diarr...</td>\n",
              "      <td>malaria</td>\n",
              "    </tr>\n",
              "    <tr>\n",
              "      <th>3441</th>\n",
              "      <td>skin rash joint pain skin peeling silver like ...</td>\n",
              "      <td>psoriasis</td>\n",
              "    </tr>\n",
              "    <tr>\n",
              "      <th>3442</th>\n",
              "      <td>joint pain vomiting fatigue high fever yellowi...</td>\n",
              "      <td>hepatitis-e</td>\n",
              "    </tr>\n",
              "    <tr>\n",
              "      <th>3443</th>\n",
              "      <td>vomiting yellowish skin abdominal pain swellin...</td>\n",
              "      <td>alcoholic-hepatitis</td>\n",
              "    </tr>\n",
              "  </tbody>\n",
              "</table>\n",
              "<p>3444 rows × 2 columns</p>\n",
              "</div>\n",
              "      <button class=\"colab-df-convert\" onclick=\"convertToInteractive('df-2f590038-d3c4-4010-b24b-beceb4162206')\"\n",
              "              title=\"Convert this dataframe to an interactive table.\"\n",
              "              style=\"display:none;\">\n",
              "        \n",
              "  <svg xmlns=\"http://www.w3.org/2000/svg\" height=\"24px\"viewBox=\"0 0 24 24\"\n",
              "       width=\"24px\">\n",
              "    <path d=\"M0 0h24v24H0V0z\" fill=\"none\"/>\n",
              "    <path d=\"M18.56 5.44l.94 2.06.94-2.06 2.06-.94-2.06-.94-.94-2.06-.94 2.06-2.06.94zm-11 1L8.5 8.5l.94-2.06 2.06-.94-2.06-.94L8.5 2.5l-.94 2.06-2.06.94zm10 10l.94 2.06.94-2.06 2.06-.94-2.06-.94-.94-2.06-.94 2.06-2.06.94z\"/><path d=\"M17.41 7.96l-1.37-1.37c-.4-.4-.92-.59-1.43-.59-.52 0-1.04.2-1.43.59L10.3 9.45l-7.72 7.72c-.78.78-.78 2.05 0 2.83L4 21.41c.39.39.9.59 1.41.59.51 0 1.02-.2 1.41-.59l7.78-7.78 2.81-2.81c.8-.78.8-2.07 0-2.86zM5.41 20L4 18.59l7.72-7.72 1.47 1.35L5.41 20z\"/>\n",
              "  </svg>\n",
              "      </button>\n",
              "      \n",
              "  <style>\n",
              "    .colab-df-container {\n",
              "      display:flex;\n",
              "      flex-wrap:wrap;\n",
              "      gap: 12px;\n",
              "    }\n",
              "\n",
              "    .colab-df-convert {\n",
              "      background-color: #E8F0FE;\n",
              "      border: none;\n",
              "      border-radius: 50%;\n",
              "      cursor: pointer;\n",
              "      display: none;\n",
              "      fill: #1967D2;\n",
              "      height: 32px;\n",
              "      padding: 0 0 0 0;\n",
              "      width: 32px;\n",
              "    }\n",
              "\n",
              "    .colab-df-convert:hover {\n",
              "      background-color: #E2EBFA;\n",
              "      box-shadow: 0px 1px 2px rgba(60, 64, 67, 0.3), 0px 1px 3px 1px rgba(60, 64, 67, 0.15);\n",
              "      fill: #174EA6;\n",
              "    }\n",
              "\n",
              "    [theme=dark] .colab-df-convert {\n",
              "      background-color: #3B4455;\n",
              "      fill: #D2E3FC;\n",
              "    }\n",
              "\n",
              "    [theme=dark] .colab-df-convert:hover {\n",
              "      background-color: #434B5C;\n",
              "      box-shadow: 0px 1px 3px 1px rgba(0, 0, 0, 0.15);\n",
              "      filter: drop-shadow(0px 1px 2px rgba(0, 0, 0, 0.3));\n",
              "      fill: #FFFFFF;\n",
              "    }\n",
              "  </style>\n",
              "\n",
              "      <script>\n",
              "        const buttonEl =\n",
              "          document.querySelector('#df-2f590038-d3c4-4010-b24b-beceb4162206 button.colab-df-convert');\n",
              "        buttonEl.style.display =\n",
              "          google.colab.kernel.accessAllowed ? 'block' : 'none';\n",
              "\n",
              "        async function convertToInteractive(key) {\n",
              "          const element = document.querySelector('#df-2f590038-d3c4-4010-b24b-beceb4162206');\n",
              "          const dataTable =\n",
              "            await google.colab.kernel.invokeFunction('convertToInteractive',\n",
              "                                                     [key], {});\n",
              "          if (!dataTable) return;\n",
              "\n",
              "          const docLinkHtml = 'Like what you see? Visit the ' +\n",
              "            '<a target=\"_blank\" href=https://colab.research.google.com/notebooks/data_table.ipynb>data table notebook</a>'\n",
              "            + ' to learn more about interactive tables.';\n",
              "          element.innerHTML = '';\n",
              "          dataTable['output_type'] = 'display_data';\n",
              "          await google.colab.output.renderOutput(dataTable, element);\n",
              "          const docLink = document.createElement('div');\n",
              "          docLink.innerHTML = docLinkHtml;\n",
              "          element.appendChild(docLink);\n",
              "        }\n",
              "      </script>\n",
              "    </div>\n",
              "  </div>\n",
              "  "
            ]
          },
          "metadata": {},
          "execution_count": 8
        }
      ],
      "source": [
        "train_df"
      ]
    },
    {
      "cell_type": "code",
      "execution_count": 9,
      "metadata": {
        "id": "6oBpHN-dKZzh"
      },
      "outputs": [],
      "source": [
        "# define train test data\n",
        "X_train, X_val, y_train, y_val = train_test_split(\n",
        "                                          train_df['TEXT'],\n",
        "                                          train_df['LABEL'], \n",
        "                                          test_size=0.2,\n",
        "                                          stratify=train_df[\"LABEL\"],\n",
        "                                          random_state = 42\n",
        "    )"
      ]
    },
    {
      "cell_type": "code",
      "execution_count": 10,
      "metadata": {
        "id": "DM_0g6mDKZzi"
      },
      "outputs": [],
      "source": [
        "X_test = test_df['TEXT']\n",
        "y_test = test_df['LABEL']"
      ]
    },
    {
      "cell_type": "code",
      "execution_count": 11,
      "metadata": {
        "id": "bbf9yi5WKZzj"
      },
      "outputs": [],
      "source": [
        "# Encode labels\n",
        "le = LabelEncoder()\n",
        "y_train = le.fit_transform(y_train)\n",
        "y_test = le.fit_transform(y_test)\n",
        "y_val = le.fit_transform(y_val)\n",
        "\n",
        "y_train = to_categorical(y_train)\n",
        "y_test = to_categorical(y_test)\n",
        "y_val = to_categorical(y_val)"
      ]
    },
    {
      "cell_type": "code",
      "execution_count": 12,
      "metadata": {
        "colab": {
          "base_uri": "https://localhost:8080/"
        },
        "id": "7phNi-XSKZzj",
        "outputId": "5b26636d-824e-477f-caa6-9e1ead28288c"
      },
      "outputs": [
        {
          "output_type": "stream",
          "name": "stdout",
          "text": [
            "Vocabulary size = 209\n"
          ]
        }
      ],
      "source": [
        "# Tokenize words\n",
        "tokenizer = Tokenizer()\n",
        "tokenizer.fit_on_texts(pd.concat([X_train, X_test], axis=0))\n",
        "\n",
        "sequences_train = tokenizer.texts_to_sequences(X_train)\n",
        "sequences_test = tokenizer.texts_to_sequences(X_test)\n",
        "sequences_val = tokenizer.texts_to_sequences(X_val)\n",
        "\n",
        "X_train = pad_sequences(sequences_train, maxlen=64, truncating='pre')\n",
        "X_test = pad_sequences(sequences_test, maxlen=64, truncating='pre')\n",
        "X_val = pad_sequences(sequences_val, maxlen=64, truncating='pre')\n",
        "\n",
        "vocabSize = len(tokenizer.index_word) + 1\n",
        "print(f\"Vocabulary size = {vocabSize}\")"
      ]
    },
    {
      "cell_type": "code",
      "execution_count": 108,
      "metadata": {
        "colab": {
          "base_uri": "https://localhost:8080/"
        },
        "id": "GjehcY7dKZzk",
        "outputId": "72e5e21e-5db8-48d9-90a7-7b1cbe12513e"
      },
      "outputs": [
        {
          "output_type": "stream",
          "name": "stdout",
          "text": [
            "Model: \"sequential\"\n",
            "_________________________________________________________________\n",
            " Layer (type)                Output Shape              Param #   \n",
            "=================================================================\n",
            " embedding (Embedding)       (None, 64, 200)           41800     \n",
            "                                                                 \n",
            " bidirectional (Bidirectiona  (None, 128)              135680    \n",
            " l)                                                              \n",
            "                                                                 \n",
            " dense (Dense)               (None, 4)                 516       \n",
            "                                                                 \n",
            " dense_1 (Dense)             (None, 8)                 40        \n",
            "                                                                 \n",
            " dense_2 (Dense)             (None, 24)                216       \n",
            "                                                                 \n",
            " dense_3 (Dense)             (None, 41)                1025      \n",
            "                                                                 \n",
            " dropout (Dropout)           (None, 41)                0         \n",
            "                                                                 \n",
            "=================================================================\n",
            "Total params: 179,277\n",
            "Trainable params: 137,477\n",
            "Non-trainable params: 41,800\n",
            "_________________________________________________________________\n"
          ]
        }
      ],
      "source": [
        "# Build neural network architecture\n",
        "import tensorflow as tf\n",
        "tf.keras.backend.clear_session()\n",
        "\n",
        "adam = Adam(learning_rate=0.005)\n",
        "#code here\n",
        "model = tf.keras.Sequential([\n",
        "    tf.keras.layers.Embedding(vocabSize, 200, input_length=X_train.shape[1], trainable=False),\n",
        "    tf.keras.layers.Bidirectional(tf.keras.layers.LSTM(64)),\n",
        "\n",
        "    tf.keras.layers.Dense(4, activation='relu'),\n",
        "    tf.keras.layers.Dense(8, activation='relu'),\n",
        "    tf.keras.layers.Dense(24, activation='relu'),\n",
        "    tf.keras.layers.Dense(41, activation='softmax'),\n",
        "    tf.keras.layers.Dropout(0.5)\n",
        "    ])\n",
        "\n",
        "model.compile(loss='categorical_crossentropy', optimizer=adam, metrics=['accuracy'])\n",
        "model.summary()"
      ]
    },
    {
      "cell_type": "code",
      "execution_count": 90,
      "metadata": {
        "id": "Xl3qi7VvKZzl"
      },
      "outputs": [],
      "source": [
        "#Callback\n",
        "callback = EarlyStopping(\n",
        "    monitor='val_accuracy',\n",
        "    verbose=1,\n",
        "    patience=10,\n",
        "    restore_best_weights=True\n",
        ")"
      ]
    },
    {
      "cell_type": "code",
      "execution_count": 91,
      "metadata": {
        "colab": {
          "base_uri": "https://localhost:8080/"
        },
        "id": "PMVI9aWwKZzm",
        "outputId": "359b4d85-82ac-41b6-a91e-2795a665faec"
      },
      "outputs": [
        {
          "output_type": "stream",
          "name": "stdout",
          "text": [
            "Epoch 1/20\n",
            "44/44 [==============================] - 6s 134ms/step - loss: 8.0451 - accuracy: 0.4987 - val_loss: 0.1000 - val_accuracy: 0.9739\n",
            "Epoch 2/20\n",
            "44/44 [==============================] - 10s 228ms/step - loss: 7.9675 - accuracy: 0.4900 - val_loss: 0.5598 - val_accuracy: 0.8128\n",
            "Epoch 3/20\n",
            "44/44 [==============================] - 8s 185ms/step - loss: 8.1440 - accuracy: 0.4650 - val_loss: 0.5421 - val_accuracy: 0.8026\n",
            "Epoch 4/20\n",
            "44/44 [==============================] - 6s 142ms/step - loss: 8.4897 - accuracy: 0.3887 - val_loss: 0.3374 - val_accuracy: 0.8868\n",
            "Epoch 5/20\n",
            "44/44 [==============================] - 6s 138ms/step - loss: 8.1899 - accuracy: 0.4704 - val_loss: 0.1700 - val_accuracy: 0.9637\n",
            "Epoch 6/20\n",
            "44/44 [==============================] - 6s 144ms/step - loss: 8.3346 - accuracy: 0.4788 - val_loss: 0.1070 - val_accuracy: 0.9710\n",
            "Epoch 7/20\n",
            "44/44 [==============================] - 6s 141ms/step - loss: 7.7960 - accuracy: 0.5125 - val_loss: 0.0614 - val_accuracy: 0.9942\n",
            "Epoch 8/20\n",
            "44/44 [==============================] - 6s 136ms/step - loss: 8.3258 - accuracy: 0.4791 - val_loss: 0.0769 - val_accuracy: 0.9724\n",
            "Epoch 9/20\n",
            "44/44 [==============================] - 6s 135ms/step - loss: 8.0883 - accuracy: 0.4966 - val_loss: 0.0540 - val_accuracy: 0.9971\n",
            "Epoch 10/20\n",
            "44/44 [==============================] - 6s 140ms/step - loss: 8.1246 - accuracy: 0.4958 - val_loss: 0.0310 - val_accuracy: 1.0000\n",
            "Epoch 11/20\n",
            "44/44 [==============================] - 6s 139ms/step - loss: 7.9434 - accuracy: 0.5067 - val_loss: 0.0273 - val_accuracy: 1.0000\n",
            "Epoch 12/20\n",
            "44/44 [==============================] - 6s 137ms/step - loss: 8.1500 - accuracy: 0.4944 - val_loss: 0.0264 - val_accuracy: 1.0000\n",
            "Epoch 13/20\n",
            "44/44 [==============================] - 6s 140ms/step - loss: 7.6820 - accuracy: 0.5238 - val_loss: 0.0172 - val_accuracy: 1.0000\n",
            "Epoch 14/20\n",
            "44/44 [==============================] - 6s 142ms/step - loss: 8.0264 - accuracy: 0.5020 - val_loss: 0.0188 - val_accuracy: 0.9985\n",
            "Epoch 15/20\n",
            "44/44 [==============================] - 6s 136ms/step - loss: 7.9845 - accuracy: 0.5049 - val_loss: 0.0330 - val_accuracy: 0.9956\n",
            "Epoch 16/20\n",
            "44/44 [==============================] - 6s 135ms/step - loss: 8.1428 - accuracy: 0.4936 - val_loss: 0.0165 - val_accuracy: 1.0000\n",
            "Epoch 17/20\n",
            "44/44 [==============================] - 6s 141ms/step - loss: 7.7849 - accuracy: 0.5172 - val_loss: 0.0251 - val_accuracy: 0.9956\n",
            "Epoch 18/20\n",
            "44/44 [==============================] - 6s 140ms/step - loss: 7.9598 - accuracy: 0.5064 - val_loss: 0.0110 - val_accuracy: 1.0000\n",
            "Epoch 19/20\n",
            "44/44 [==============================] - 7s 155ms/step - loss: 8.0874 - accuracy: 0.4984 - val_loss: 0.0139 - val_accuracy: 0.9956\n",
            "Epoch 20/20\n",
            "43/44 [============================>.] - ETA: 0s - loss: 7.9497 - accuracy: 0.5069Restoring model weights from the end of the best epoch: 10.\n",
            "44/44 [==============================] - 6s 143ms/step - loss: 7.9469 - accuracy: 0.5071 - val_loss: 0.0121 - val_accuracy: 0.9956\n",
            "Epoch 20: early stopping\n"
          ]
        }
      ],
      "source": [
        "# Fit model\n",
        "# code here\n",
        "history = model.fit(X_train,\n",
        "                    y_train,\n",
        "                    validation_data=(X_val, y_val),\n",
        "                    verbose=1,\n",
        "                    batch_size=64,\n",
        "                    callbacks=[callback],\n",
        "                    epochs=20)"
      ]
    },
    {
      "cell_type": "code",
      "execution_count": 92,
      "metadata": {
        "colab": {
          "base_uri": "https://localhost:8080/"
        },
        "id": "xrj2VNrSKZzm",
        "outputId": "15f853a3-f2bb-40fd-92a5-20aa12f665a2"
      },
      "outputs": [
        {
          "output_type": "stream",
          "name": "stdout",
          "text": [
            "47/47 [==============================] - 1s 24ms/step - loss: 0.0350 - accuracy: 0.9986\n"
          ]
        },
        {
          "output_type": "execute_result",
          "data": {
            "text/plain": [
              "[0.03502649441361427, 0.998645007610321]"
            ]
          },
          "metadata": {},
          "execution_count": 92
        }
      ],
      "source": [
        "model.evaluate(X_test, y_test, verbose=1)"
      ]
    },
    {
      "cell_type": "code",
      "execution_count": 93,
      "metadata": {
        "colab": {
          "base_uri": "https://localhost:8080/",
          "height": 545
        },
        "id": "He3WCuGMKZzn",
        "outputId": "737dba23-400b-4a72-86b1-fd509d7dfeab"
      },
      "outputs": [
        {
          "output_type": "display_data",
          "data": {
            "text/plain": [
              "<Figure size 432x288 with 1 Axes>"
            ],
            "image/png": "[encoded data removed]"
          },
          "metadata": {
            "needs_background": "light"
          }
        },
        {
          "output_type": "display_data",
          "data": {
            "text/plain": [
              "<Figure size 432x288 with 1 Axes>"
            ],
            "image/png": "[encoded data removed]"
          },
          "metadata": {
            "needs_background": "light"
          }
        }
      ],
      "source": [
        "# Visualize Loss & Accuracy\n",
        "\n",
        "%matplotlib inline\n",
        "import matplotlib.pyplot as plt\n",
        "\n",
        "\n",
        "acc = history.history['accuracy']\n",
        "val_acc = history.history['val_accuracy']\n",
        "loss = history.history['loss']\n",
        "val_loss = history.history['val_loss']\n",
        "\n",
        "epochs = range(len(acc))\n",
        "\n",
        "plt.plot(epochs, acc, 'r', label='Training accuracy')\n",
        "plt.plot(epochs, val_acc, 'b', label='Validation accuracy')\n",
        "plt.title('Training and validation accuracy')\n",
        "plt.legend()\n",
        "plt.figure()\n",
        "\n",
        "plt.plot(epochs, loss, 'r', label='Training Loss')\n",
        "plt.plot(epochs, val_loss, 'b', label='Validation Loss')\n",
        "plt.title('Training and validation loss')\n",
        "plt.legend()\n",
        "\n",
        "plt.show()"
      ]
    },
    {
      "cell_type": "code",
      "execution_count": 94,
      "metadata": {
        "id": "tVImy_xQKZzn"
      },
      "outputs": [],
      "source": [
        "# save model\n",
        "import numpy as np\n",
        "import pickle\n",
        "\n",
        "model.save('model/model-tensorflow.h5')\n",
        "\n",
        "np.save('model/classes_encoder.npy', le.classes_)\n",
        "\n",
        "pickle.dump(tokenizer, open('model/tokenizer.pkl', 'wb'))"
      ]
    },
    {
      "cell_type": "code",
      "execution_count": 95,
      "metadata": {
        "colab": {
          "base_uri": "https://localhost:8080/"
        },
        "id": "eG6Y1CQMKZzo",
        "outputId": "2989c6ab-3353-44a8-917d-c5bcad2df9cd"
      },
      "outputs": [
        {
          "output_type": "stream",
          "name": "stdout",
          "text": [
            "stomach pain acidity ulcers on tongue\n",
            "drug-reaction : 0.47684377431869507\n",
            "\n"
          ]
        }
      ],
      "source": [
        "# Classify custom sample\n",
        "\n",
        "sentences = [\n",
        "            \"stomach pain acidity ulcers on tongue\"\n",
        "            ]\n",
        "for sentence in sentences:\n",
        "    print(sentence)\n",
        "    sentence = tokenizer.texts_to_sequences([sentence])\n",
        "    sentence = pad_sequences(sentence, maxlen=64, truncating='pre')\n",
        "    result = le.inverse_transform(np.argmax(model.predict(sentence), axis=-1))[0]\n",
        "    proba =  np.max(model.predict(sentence))\n",
        "    print(f\"{result} : {proba}\\n\")"
      ]
    },
    {
      "cell_type": "code",
      "execution_count": 96,
      "metadata": {
        "colab": {
          "base_uri": "https://localhost:8080/"
        },
        "id": "lCLys22WKZzo",
        "outputId": "22f7782e-8501-4716-9339-772559fa996d"
      },
      "outputs": [
        {
          "output_type": "execute_result",
          "data": {
            "text/plain": [
              "array([0])"
            ]
          },
          "metadata": {},
          "execution_count": 96
        }
      ],
      "source": [
        "# Tokenizing\n",
        "sentence = \"itching\"\n",
        "sentence = tokenizer.texts_to_sequences([sentence])\n",
        "sentence = pad_sequences(sentence, maxlen=64, truncating='pre')\n",
        "pred = model.predict(sentence)\n",
        "np.argmax(pred, axis=-1)"
      ]
    },
    {
      "cell_type": "code",
      "execution_count": 97,
      "metadata": {
        "colab": {
          "base_uri": "https://localhost:8080/"
        },
        "id": "l8c-tWzRKZzp",
        "outputId": "d1cab760-c379-4e69-a6c2-cea0f98e55e7"
      },
      "outputs": [
        {
          "output_type": "execute_result",
          "data": {
            "text/plain": [
              "0.566385"
            ]
          },
          "metadata": {},
          "execution_count": 97
        }
      ],
      "source": [
        "np.max(pred)"
      ]
    },
    {
      "cell_type": "code",
      "execution_count": 98,
      "metadata": {
        "id": "RmnfmBruKZzp"
      },
      "outputs": [],
      "source": [
        "preds = tf.math.top_k(pred, k=3)"
      ]
    },
    {
      "cell_type": "code",
      "execution_count": 99,
      "metadata": {
        "colab": {
          "base_uri": "https://localhost:8080/"
        },
        "id": "5miA2PvsKZzp",
        "outputId": "daad3e68-d113-4b6d-a1a1-f0157550ab9b"
      },
      "outputs": [
        {
          "output_type": "execute_result",
          "data": {
            "text/plain": [
              "[0.5663849711418152, 0.31503453850746155, 0.06822872161865234]"
            ]
          },
          "metadata": {},
          "execution_count": 99
        }
      ],
      "source": [
        "preds[0][0].numpy().tolist()"
      ]
    },
    {
      "cell_type": "code",
      "execution_count": 100,
      "metadata": {
        "colab": {
          "base_uri": "https://localhost:8080/"
        },
        "id": "SljxT7dtKZzq",
        "outputId": "200d0a7d-e1b5-499f-be4d-8a30e69422aa"
      },
      "outputs": [
        {
          "output_type": "execute_result",
          "data": {
            "text/plain": [
              "array([ 0, 17, 15], dtype=int32)"
            ]
          },
          "metadata": {},
          "execution_count": 100
        }
      ],
      "source": [
        "preds[1][0].numpy()"
      ]
    },
    {
      "cell_type": "code",
      "execution_count": 101,
      "metadata": {
        "id": "ZI46jQlJKZzq"
      },
      "outputs": [],
      "source": [
        "# le.inverse_transform(np.argmax(model.predict(sentence), axis=-1))\n",
        "# tf.math.top_k(pred, k=3)\n",
        "\n",
        "pred_1 = le.inverse_transform(preds[1][0].numpy())\n",
        "# pred_2 = le.inverse_transform(preds[1][0].numpy()[1])\n",
        "# pred_3 = le.inverse_transform(preds[1][0].numpy()[2])"
      ]
    },
    {
      "cell_type": "code",
      "execution_count": 102,
      "metadata": {
        "colab": {
          "base_uri": "https://localhost:8080/"
        },
        "id": "xYgDrMnvKZzq",
        "outputId": "a85008ef-0417-4da8-ffe1-8440bb448b24"
      },
      "outputs": [
        {
          "output_type": "execute_result",
          "data": {
            "text/plain": [
              "array(['acne', 'heart-attack', 'gastroenteritis'], dtype=object)"
            ]
          },
          "metadata": {},
          "execution_count": 102
        }
      ],
      "source": [
        "pred_1"
      ]
    },
    {
      "cell_type": "code",
      "execution_count": 103,
      "metadata": {
        "id": "qLZWKzuJKZzr"
      },
      "outputs": [],
      "source": [
        "model_tf = tf.keras.models.load_model('model/model-tensorflow.h5')"
      ]
    },
    {
      "cell_type": "code",
      "execution_count": 104,
      "metadata": {
        "id": "RQQBvOEEKZzr"
      },
      "outputs": [],
      "source": [
        "tokenizer = pickle.load(open('model/tokenizer.pkl', 'rb'))\n",
        "le = LabelEncoder()\n",
        "le.classes_ = np.load('model/classes_encoder.npy', allow_pickle=True)\n",
        "\n",
        "text = tokenizer.texts_to_sequences(['skin rash chills joint pain vomiting fatigue'])\n",
        "text = pad_sequences(text, maxlen=64, truncating='pre')\n",
        "pred = model_tf.predict(text)\n",
        "preds = tf.math.top_k(pred, k=3)\n",
        "list_predictions = le.inverse_transform(preds[1][0].numpy())\n",
        "list_score = preds[0][0].numpy().tolist()"
      ]
    },
    {
      "cell_type": "code",
      "execution_count": 105,
      "metadata": {
        "colab": {
          "base_uri": "https://localhost:8080/"
        },
        "id": "jJyCSErdKZzr",
        "outputId": "60b6728b-a5e6-4c1b-a674-08be7dc8d324"
      },
      "outputs": [
        {
          "output_type": "execute_result",
          "data": {
            "text/plain": [
              "array(['aids', 'arthritis', 'hypertension-'], dtype=object)"
            ]
          },
          "metadata": {},
          "execution_count": 105
        }
      ],
      "source": [
        "list_predictions"
      ]
    },
    {
      "cell_type": "code",
      "execution_count": 106,
      "metadata": {
        "colab": {
          "base_uri": "https://localhost:8080/"
        },
        "id": "mh6DQ0hjKZzs",
        "outputId": "a6c89835-2c8c-4b57-9acf-b9d618f8af8a"
      },
      "outputs": [
        {
          "output_type": "execute_result",
          "data": {
            "text/plain": [
              "array(['aids', 'arthritis', 'hypertension-'], dtype=object)"
            ]
          },
          "metadata": {},
          "execution_count": 106
        }
      ],
      "source": [
        "list_predictions"
      ]
    },
    {
      "cell_type": "code",
      "execution_count": 107,
      "metadata": {
        "colab": {
          "base_uri": "https://localhost:8080/"
        },
        "id": "VGwbrw11KZzs",
        "outputId": "7446e648-536a-45e3-f290-e1b0672e618f"
      },
      "outputs": [
        {
          "output_type": "execute_result",
          "data": {
            "text/plain": [
              "[0.8323832154273987, 0.14456205070018768, 0.012576776556670666]"
            ]
          },
          "metadata": {},
          "execution_count": 107
        }
      ],
      "source": [
        "list_score"
      ]
    },
    {
      "cell_type": "code",
      "execution_count": 107,
      "metadata": {
        "id": "Irx9bPLNKZzs"
      },
      "outputs": [],
      "source": [
        ""
      ]
    }
  ],
  "metadata": {
    "kernelspec": {
      "display_name": "Python 3.8.6 ('ML-Developer')",
      "language": "python",
      "name": "python3"
    },
    "language_info": {
      "codemirror_mode": {
        "name": "ipython",
        "version": 3
      },
      "file_extension": ".py",
      "mimetype": "text/x-python",
      "name": "python",
      "nbconvert_exporter": "python",
      "pygments_lexer": "ipython3",
      "version": "3.8.6"
    },
    "orig_nbformat": 4,
    "vscode": {
      "interpreter": {
        "hash": "f89036b38d471c229381d423ed0525e398c22cf1f6348bafe49c7e24c7f458f3"
      }
    },
    "colab": {
      "name": "train-model-tensorflow-comparison-network-architecture.ipynb",
      "provenance": []
    }
  },
  "nbformat": 4,
  "nbformat_minor": 0
}