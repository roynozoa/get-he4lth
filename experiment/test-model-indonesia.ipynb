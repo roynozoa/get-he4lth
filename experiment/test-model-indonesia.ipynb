{
 "cells": [
  {
   "cell_type": "markdown",
   "metadata": {},
   "source": [
    "## Import Library"
   ]
  },
  {
   "cell_type": "code",
   "execution_count": 2,
   "metadata": {},
   "outputs": [
    {
     "name": "stderr",
     "output_type": "stream",
     "text": [
      "Using Indonesia server backend.\n"
     ]
    }
   ],
   "source": [
    "import os\n",
    "import csv\n",
    "import time\n",
    "import json\n",
    "import emoji\n",
    "import fasttext\n",
    "import numpy as np\n",
    "import pandas as pd\n",
    "import string\n",
    "import json\n",
    "import pickle\n",
    "import tensorflow as tf\n",
    "import tensorflow_hub as hub\n",
    "import tensorflow_text as text\n",
    "import translators as ts\n",
    "\n",
    "from datetime import date\n",
    "\n",
    "from sklearn.model_selection import train_test_split\n",
    "from sklearn.metrics import (f1_score,\n",
    "                             precision_score,\n",
    "                             recall_score, \n",
    "                             accuracy_score)"
   ]
  },
  {
   "cell_type": "code",
   "execution_count": 3,
   "metadata": {},
   "outputs": [],
   "source": [
    "from sklearn.preprocessing import LabelEncoder\n",
    "from sklearn.model_selection import train_test_split\n",
    "\n",
    "from tensorflow.keras.utils import to_categorical\n",
    "from tensorflow.keras.preprocessing.text import Tokenizer\n",
    "from tensorflow.keras.preprocessing.sequence import pad_sequences\n",
    "\n",
    "from tensorflow.keras.optimizers import Adam\n",
    "from tensorflow.keras.models import Sequential\n",
    "from tensorflow.keras.callbacks import EarlyStopping\n",
    "from tensorflow.keras.layers import Dense, LSTM, Embedding, Bidirectional"
   ]
  },
  {
   "cell_type": "markdown",
   "metadata": {},
   "source": [
    "## Test with Tensorflow Model"
   ]
  },
  {
   "cell_type": "code",
   "execution_count": 17,
   "metadata": {},
   "outputs": [],
   "source": [
    "# prepare variables\n",
    "symptom_df = pd.read_csv('dataset/symptom_id.csv')\n",
    "disease_df = pd.read_csv('dataset/disease_id.csv')\n",
    "model_tf = tf.keras.models.load_model('model/model-tensorflow.h5')\n",
    "tokenizer = pickle.load(open('model/tokenizer.pkl', 'rb'))\n",
    "le = LabelEncoder()\n",
    "le.classes_ = np.load('model/classes_encoder.npy', allow_pickle=True)"
   ]
  },
  {
   "cell_type": "code",
   "execution_count": 31,
   "metadata": {},
   "outputs": [
    {
     "name": "stdout",
     "output_type": "stream",
     "text": [
      "1/1 [==============================] - 0s 22ms/step\n"
     ]
    }
   ],
   "source": [
    "text_indo = 'gatal ruam kulit' # masukan keluhan yang dirasakan dalam bhs. indonesia (dalam list)\n",
    "text_en = ts.google(text_indo,to_language='en', from_language='id')\n",
    "\n",
    "# preprocess text to sequences\n",
    "text_en = tokenizer.texts_to_sequences([text_en])\n",
    "text_en = pad_sequences(text_en, maxlen=64, truncating='pre')\n",
    "start = time.time()\n",
    "pred = model_tf.predict(text_en)\n",
    "end = time.time()\n",
    "preds = tf.math.top_k(pred, k=3) # prediksi top 3 kemungkinan disease \n",
    "\n",
    "list_predictions = le.inverse_transform(preds[1][0].numpy()) # list top 3 prediksi\n",
    "list_score = preds[0][0].numpy().tolist() # list top 3 score\n",
    "predict_time_tf = end - start\n"
   ]
  },
  {
   "cell_type": "code",
   "execution_count": 32,
   "metadata": {},
   "outputs": [
    {
     "data": {
      "text/plain": [
       "(array(['acne', 'gastroenteritis', 'allergy'], dtype=object),\n",
       " [0.29208892583847046, 0.25827163457870483, 0.21707503497600555],\n",
       " 0.057981014251708984)"
      ]
     },
     "execution_count": 32,
     "metadata": {},
     "output_type": "execute_result"
    }
   ],
   "source": [
    "list_predictions, list_score, predict_time_tf"
   ]
  },
  {
   "cell_type": "markdown",
   "metadata": {},
   "source": [
    "## Test with Bert Model (TFHub)"
   ]
  },
  {
   "cell_type": "code",
   "execution_count": 4,
   "metadata": {},
   "outputs": [],
   "source": [
    "# prepare variables\n",
    "symptom_df = pd.read_csv('dataset/symptom_id.csv')\n",
    "disease_df = pd.read_csv('dataset/disease_id.csv')\n",
    "model_bert = hub.KerasLayer(\"./model/model-tensorflow-bert.hub\")\n",
    "le = LabelEncoder()\n",
    "le.classes_ = np.load('model/classes_encoder.npy', allow_pickle=True)"
   ]
  },
  {
   "cell_type": "code",
   "execution_count": 8,
   "metadata": {},
   "outputs": [],
   "source": [
    "text_indo = 'gatal ruam kulit' # masukan keluhan yang dirasakan dalam bhs. indonesia (dalam list)\n",
    "text_en = ts.google(text_indo,to_language='en', from_language='id')\n",
    "\n",
    "\n",
    "start = time.time()\n",
    "pred = model_bert([text_en])\n",
    "end = time.time()\n",
    "preds = tf.math.top_k(pred, k=3) # prediksi top 3 kemungkinan disease \n",
    "\n",
    "list_predictions = le.inverse_transform(preds[1][0].numpy()) # list top 3 prediksi\n",
    "list_score = preds[0][0].numpy().tolist() # list top 3 score\n",
    "predict_time_bert = end - start\n"
   ]
  },
  {
   "cell_type": "code",
   "execution_count": 9,
   "metadata": {},
   "outputs": [
    {
     "data": {
      "text/plain": [
       "(array(['fungal-infection', 'acne', 'drug-reaction'], dtype=object),\n",
       " [0.7257739305496216, 0.1899476945400238, 0.05927838012576103],\n",
       " 1.2850043773651123)"
      ]
     },
     "execution_count": 9,
     "metadata": {},
     "output_type": "execute_result"
    }
   ],
   "source": [
    "list_predictions, list_score, predict_time_bert"
   ]
  },
  {
   "cell_type": "markdown",
   "metadata": {},
   "source": [
    "## Test with Fasttext Model (non tensorflow)"
   ]
  },
  {
   "cell_type": "code",
   "execution_count": 28,
   "metadata": {},
   "outputs": [
    {
     "name": "stderr",
     "output_type": "stream",
     "text": [
      "Warning : `load_model` does not return WordVectorModel or SupervisedModel any more, but a `FastText` object which is very similar.\n"
     ]
    }
   ],
   "source": [
    "# prepare variables\n",
    "symptom_df = pd.read_csv('dataset/symptom_id.csv')\n",
    "disease_df = pd.read_csv('dataset/disease_id.csv')\n",
    "model_fasttext = fasttext.load_model('model/model.ftz')"
   ]
  },
  {
   "cell_type": "code",
   "execution_count": 33,
   "metadata": {},
   "outputs": [],
   "source": [
    "text_indo = 'gatal ruam kulit' # masukan keluhan yang dirasakan dalam bhs. indonesia (dalam list)\n",
    "text_en = ts.google(text_indo,to_language='en', from_language='id')\n",
    "\n",
    "\n",
    "list_predictions = []\n",
    "start = time.time()\n",
    "prediction = model_fasttext.predict(text_en,3)\n",
    "end = time.time()\n",
    "for i in range(3):\n",
    "    list_predictions.append(\n",
    "        (prediction[0][i].replace(\"__label__\",\"\"), prediction[1][i])\n",
    "    )\n",
    "\n",
    "predict_time_fasttext = end - start"
   ]
  },
  {
   "cell_type": "code",
   "execution_count": 34,
   "metadata": {},
   "outputs": [
    {
     "data": {
      "text/plain": [
       "([('acne', 0.66585373878479),\n",
       "  ('fungal-infection', 0.253587007522583),\n",
       "  ('impetigo', 0.0704912319779396)],\n",
       " 0.0)"
      ]
     },
     "execution_count": 34,
     "metadata": {},
     "output_type": "execute_result"
    }
   ],
   "source": [
    "list_predictions, predict_time_fasttext"
   ]
  },
  {
   "cell_type": "code",
   "execution_count": null,
   "metadata": {},
   "outputs": [],
   "source": []
  }
 ],
 "metadata": {
  "kernelspec": {
   "display_name": "Python 3.8.6 64-bit",
   "language": "python",
   "name": "python3"
  },
  "language_info": {
   "codemirror_mode": {
    "name": "ipython",
    "version": 3
   },
   "file_extension": ".py",
   "mimetype": "text/x-python",
   "name": "python",
   "nbconvert_exporter": "python",
   "pygments_lexer": "ipython3",
   "version": "3.8.6"
  },
  "orig_nbformat": 4,
  "vscode": {
   "interpreter": {
    "hash": "bc491cab7f8e518b8661983684ee0bfd3cedaf06faa2175782bbf43c1e59e7f0"
   }
  }
 },
 "nbformat": 4,
 "nbformat_minor": 2
}
